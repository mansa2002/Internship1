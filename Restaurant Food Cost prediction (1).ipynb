{
 "cells": [
  {
   "cell_type": "markdown",
   "metadata": {},
   "source": [
    "# Restaurant Food Cost"
   ]
  },
  {
   "cell_type": "markdown",
   "metadata": {},
   "source": [
    "### Project Description"
   ]
  },
  {
   "cell_type": "markdown",
   "metadata": {},
   "source": [
    "Who doesn’t love food? All of us must have craving for at least a few favourite food items, we may also have a few places where we like to get them, a restaurant which serves our favourite food the way we want it to be. But there is one factor that will make us reconsider having our favourite food from our favourite restaurant, the cost. Here in this hackathon, you will be predicting the cost of the food served by the restaurants across different cities in India. You will use your Data Science skills to investigate the factors that really affect the cost, and who knows maybe you will even gain some very interesting insights that might help you choose what to eat and from where."
   ]
  },
  {
   "cell_type": "markdown",
   "metadata": {},
   "source": [
    "### You are provided with following 2 files: "
   ]
  },
  {
   "cell_type": "markdown",
   "metadata": {},
   "source": [
    "1.     train.csv : Use this dataset to train the model. This file contains all the details related to restaurant food cost as well as the target variable “cost”. You have to train your model using this file.\n",
    "2.     test.csv : Use the trained model to predict the cost of a two person meal."
   ]
  },
  {
   "cell_type": "markdown",
   "metadata": {},
   "source": [
    "# Dataset Attributes"
   ]
  },
  {
   "cell_type": "markdown",
   "metadata": {},
   "source": [
    "TITLE: The feature of the restaurant which can help identify what and for whom it is suitable for. RESTAURANT_ID: A unique ID for each restaurant. CUISINES: The variety of cuisines that the restaurant offers. TIME: The open hours of the restaurant. CITY: The city in which the restaurant is located. LOCALITY: The locality of the restaurant. RATING: The average rating of the restaurant by customers. VOTES: The overall votes received by the restaurant. COST: The average cost of a two-person meal."
   ]
  },
  {
   "cell_type": "markdown",
   "metadata": {},
   "source": [
    "# Importing required libraries"
   ]
  },
  {
   "cell_type": "code",
   "execution_count": 2,
   "metadata": {},
   "outputs": [],
   "source": [
    "import pandas as pd\n",
    "import numpy as np\n",
    "import matplotlib.pyplot as plt\n",
    "%matplotlib inline\n",
    "import seaborn as sns\n",
    "import re\n",
    "import warnings\n",
    "warnings.filterwarnings('ignore')\n",
    "import catboost as cb\n",
    "from sklearn.metrics import mean_squared_log_error, mean_squared_error\n",
    "from sklearn.model_selection import train_test_split, KFold, RepeatedKFold\n",
    "from sklearn.linear_model import ElasticNet, LinearRegression\n",
    "from sklearn.feature_extraction.text import TfidfVectorizer\n",
    "from sklearn.decomposition import TruncatedSVD"
   ]
  },
  {
   "cell_type": "markdown",
   "metadata": {},
   "source": [
    "# Importing datasets"
   ]
  },
  {
   "cell_type": "code",
   "execution_count": 3,
   "metadata": {},
   "outputs": [],
   "source": [
    "res_train = pd.read_excel(r\"C:\\Users\\kakug\\Downloads\\Data_Train.xlsx\")\n",
    "res_test = pd.read_excel(r\"C:\\Users\\kakug\\Downloads\\Data_Test.xlsx\")"
   ]
  },
  {
   "cell_type": "markdown",
   "metadata": {},
   "source": [
    "# Loading datasets"
   ]
  },
  {
   "cell_type": "code",
   "execution_count": 373,
   "metadata": {},
   "outputs": [
    {
     "data": {
      "text/html": [
       "<div>\n",
       "<style scoped>\n",
       "    .dataframe tbody tr th:only-of-type {\n",
       "        vertical-align: middle;\n",
       "    }\n",
       "\n",
       "    .dataframe tbody tr th {\n",
       "        vertical-align: top;\n",
       "    }\n",
       "\n",
       "    .dataframe thead th {\n",
       "        text-align: right;\n",
       "    }\n",
       "</style>\n",
       "<table border=\"1\" class=\"dataframe\">\n",
       "  <thead>\n",
       "    <tr style=\"text-align: right;\">\n",
       "      <th></th>\n",
       "      <th>TITLE</th>\n",
       "      <th>RESTAURANT_ID</th>\n",
       "      <th>CUISINES</th>\n",
       "      <th>TIME</th>\n",
       "      <th>CITY</th>\n",
       "      <th>LOCALITY</th>\n",
       "      <th>RATING</th>\n",
       "      <th>VOTES</th>\n",
       "      <th>COST</th>\n",
       "    </tr>\n",
       "  </thead>\n",
       "  <tbody>\n",
       "    <tr>\n",
       "      <th>0</th>\n",
       "      <td>CASUAL DINING</td>\n",
       "      <td>9438</td>\n",
       "      <td>Malwani, Goan, North Indian</td>\n",
       "      <td>11am – 4pm, 7:30pm – 11:30pm (Mon-Sun)</td>\n",
       "      <td>Thane</td>\n",
       "      <td>Dombivali East</td>\n",
       "      <td>3.6</td>\n",
       "      <td>49 votes</td>\n",
       "      <td>1200</td>\n",
       "    </tr>\n",
       "    <tr>\n",
       "      <th>1</th>\n",
       "      <td>CASUAL DINING,BAR</td>\n",
       "      <td>13198</td>\n",
       "      <td>Asian, Modern Indian, Japanese</td>\n",
       "      <td>6pm – 11pm (Mon-Sun)</td>\n",
       "      <td>Chennai</td>\n",
       "      <td>Ramapuram</td>\n",
       "      <td>4.2</td>\n",
       "      <td>30 votes</td>\n",
       "      <td>1500</td>\n",
       "    </tr>\n",
       "    <tr>\n",
       "      <th>2</th>\n",
       "      <td>CASUAL DINING</td>\n",
       "      <td>10915</td>\n",
       "      <td>North Indian, Chinese, Biryani, Hyderabadi</td>\n",
       "      <td>11am – 3:30pm, 7pm – 11pm (Mon-Sun)</td>\n",
       "      <td>Chennai</td>\n",
       "      <td>Saligramam</td>\n",
       "      <td>3.8</td>\n",
       "      <td>221 votes</td>\n",
       "      <td>800</td>\n",
       "    </tr>\n",
       "    <tr>\n",
       "      <th>3</th>\n",
       "      <td>QUICK BITES</td>\n",
       "      <td>6346</td>\n",
       "      <td>Tibetan, Chinese</td>\n",
       "      <td>11:30am – 1am (Mon-Sun)</td>\n",
       "      <td>Mumbai</td>\n",
       "      <td>Bandra West</td>\n",
       "      <td>4.1</td>\n",
       "      <td>24 votes</td>\n",
       "      <td>800</td>\n",
       "    </tr>\n",
       "    <tr>\n",
       "      <th>4</th>\n",
       "      <td>DESSERT PARLOR</td>\n",
       "      <td>15387</td>\n",
       "      <td>Desserts</td>\n",
       "      <td>11am – 1am (Mon-Sun)</td>\n",
       "      <td>Mumbai</td>\n",
       "      <td>Lower Parel</td>\n",
       "      <td>3.8</td>\n",
       "      <td>165 votes</td>\n",
       "      <td>300</td>\n",
       "    </tr>\n",
       "  </tbody>\n",
       "</table>\n",
       "</div>"
      ],
      "text/plain": [
       "               TITLE  RESTAURANT_ID  \\\n",
       "0      CASUAL DINING           9438   \n",
       "1  CASUAL DINING,BAR          13198   \n",
       "2      CASUAL DINING          10915   \n",
       "3        QUICK BITES           6346   \n",
       "4     DESSERT PARLOR          15387   \n",
       "\n",
       "                                     CUISINES  \\\n",
       "0                 Malwani, Goan, North Indian   \n",
       "1              Asian, Modern Indian, Japanese   \n",
       "2  North Indian, Chinese, Biryani, Hyderabadi   \n",
       "3                            Tibetan, Chinese   \n",
       "4                                    Desserts   \n",
       "\n",
       "                                     TIME     CITY        LOCALITY RATING  \\\n",
       "0  11am – 4pm, 7:30pm – 11:30pm (Mon-Sun)    Thane  Dombivali East    3.6   \n",
       "1                    6pm – 11pm (Mon-Sun)  Chennai       Ramapuram    4.2   \n",
       "2     11am – 3:30pm, 7pm – 11pm (Mon-Sun)  Chennai      Saligramam    3.8   \n",
       "3                 11:30am – 1am (Mon-Sun)   Mumbai     Bandra West    4.1   \n",
       "4                    11am – 1am (Mon-Sun)   Mumbai     Lower Parel    3.8   \n",
       "\n",
       "       VOTES  COST  \n",
       "0   49 votes  1200  \n",
       "1   30 votes  1500  \n",
       "2  221 votes   800  \n",
       "3   24 votes   800  \n",
       "4  165 votes   300  "
      ]
     },
     "execution_count": 373,
     "metadata": {},
     "output_type": "execute_result"
    }
   ],
   "source": [
    "res_train.head() # Train dataset"
   ]
  },
  {
   "cell_type": "code",
   "execution_count": 374,
   "metadata": {},
   "outputs": [
    {
     "data": {
      "text/html": [
       "<div>\n",
       "<style scoped>\n",
       "    .dataframe tbody tr th:only-of-type {\n",
       "        vertical-align: middle;\n",
       "    }\n",
       "\n",
       "    .dataframe tbody tr th {\n",
       "        vertical-align: top;\n",
       "    }\n",
       "\n",
       "    .dataframe thead th {\n",
       "        text-align: right;\n",
       "    }\n",
       "</style>\n",
       "<table border=\"1\" class=\"dataframe\">\n",
       "  <thead>\n",
       "    <tr style=\"text-align: right;\">\n",
       "      <th></th>\n",
       "      <th>TITLE</th>\n",
       "      <th>RESTAURANT_ID</th>\n",
       "      <th>CUISINES</th>\n",
       "      <th>TIME</th>\n",
       "      <th>CITY</th>\n",
       "      <th>LOCALITY</th>\n",
       "      <th>RATING</th>\n",
       "      <th>VOTES</th>\n",
       "    </tr>\n",
       "  </thead>\n",
       "  <tbody>\n",
       "    <tr>\n",
       "      <th>0</th>\n",
       "      <td>CASUAL DINING</td>\n",
       "      <td>4085</td>\n",
       "      <td>North Indian, Chinese, Mughlai, Kebab</td>\n",
       "      <td>12noon – 12midnight (Mon-Sun)</td>\n",
       "      <td>Noida</td>\n",
       "      <td>Sector 18</td>\n",
       "      <td>4.3</td>\n",
       "      <td>564 votes</td>\n",
       "    </tr>\n",
       "    <tr>\n",
       "      <th>1</th>\n",
       "      <td>QUICK BITES</td>\n",
       "      <td>12680</td>\n",
       "      <td>South Indian, Fast Food, Pizza, North Indian</td>\n",
       "      <td>7am – 12:30AM (Mon-Sun)</td>\n",
       "      <td>Mumbai</td>\n",
       "      <td>Grant Road</td>\n",
       "      <td>4.2</td>\n",
       "      <td>61 votes</td>\n",
       "    </tr>\n",
       "    <tr>\n",
       "      <th>2</th>\n",
       "      <td>CASUAL DINING</td>\n",
       "      <td>1411</td>\n",
       "      <td>North Indian, Seafood, Biryani, Chinese</td>\n",
       "      <td>11am – 11:30pm (Mon-Sun)</td>\n",
       "      <td>Mumbai</td>\n",
       "      <td>Marine Lines</td>\n",
       "      <td>3.8</td>\n",
       "      <td>350 votes</td>\n",
       "    </tr>\n",
       "    <tr>\n",
       "      <th>3</th>\n",
       "      <td>None</td>\n",
       "      <td>204</td>\n",
       "      <td>Biryani</td>\n",
       "      <td>9am – 10pm (Mon, Wed, Thu, Fri, Sat, Sun), 10:...</td>\n",
       "      <td>Faridabad</td>\n",
       "      <td>NIT</td>\n",
       "      <td>3.8</td>\n",
       "      <td>1445 votes</td>\n",
       "    </tr>\n",
       "    <tr>\n",
       "      <th>4</th>\n",
       "      <td>QUICK BITES</td>\n",
       "      <td>13453</td>\n",
       "      <td>South Indian, Kerala</td>\n",
       "      <td>11am – 10pm (Mon-Sun)</td>\n",
       "      <td>Kochi</td>\n",
       "      <td>Kaloor</td>\n",
       "      <td>3.6</td>\n",
       "      <td>23 votes</td>\n",
       "    </tr>\n",
       "  </tbody>\n",
       "</table>\n",
       "</div>"
      ],
      "text/plain": [
       "           TITLE  RESTAURANT_ID                                      CUISINES  \\\n",
       "0  CASUAL DINING           4085         North Indian, Chinese, Mughlai, Kebab   \n",
       "1    QUICK BITES          12680  South Indian, Fast Food, Pizza, North Indian   \n",
       "2  CASUAL DINING           1411       North Indian, Seafood, Biryani, Chinese   \n",
       "3           None            204                                       Biryani   \n",
       "4    QUICK BITES          13453                          South Indian, Kerala   \n",
       "\n",
       "                                                TIME       CITY      LOCALITY  \\\n",
       "0                      12noon – 12midnight (Mon-Sun)      Noida     Sector 18   \n",
       "1                            7am – 12:30AM (Mon-Sun)     Mumbai    Grant Road   \n",
       "2                           11am – 11:30pm (Mon-Sun)     Mumbai  Marine Lines   \n",
       "3  9am – 10pm (Mon, Wed, Thu, Fri, Sat, Sun), 10:...  Faridabad           NIT   \n",
       "4                              11am – 10pm (Mon-Sun)      Kochi        Kaloor   \n",
       "\n",
       "  RATING       VOTES  \n",
       "0    4.3   564 votes  \n",
       "1    4.2    61 votes  \n",
       "2    3.8   350 votes  \n",
       "3    3.8  1445 votes  \n",
       "4    3.6    23 votes  "
      ]
     },
     "execution_count": 374,
     "metadata": {},
     "output_type": "execute_result"
    }
   ],
   "source": [
    "res_test.head() # Test dataset"
   ]
  },
  {
   "cell_type": "markdown",
   "metadata": {},
   "source": [
    "# Performing EDA & Dataprepration"
   ]
  },
  {
   "cell_type": "code",
   "execution_count": 375,
   "metadata": {},
   "outputs": [
    {
     "data": {
      "text/plain": [
       "(12690, 9)"
      ]
     },
     "execution_count": 375,
     "metadata": {},
     "output_type": "execute_result"
    }
   ],
   "source": [
    "res_train.shape # Checking shape of Train dataset"
   ]
  },
  {
   "cell_type": "code",
   "execution_count": 376,
   "metadata": {},
   "outputs": [
    {
     "data": {
      "text/plain": [
       "(4231, 8)"
      ]
     },
     "execution_count": 376,
     "metadata": {},
     "output_type": "execute_result"
    }
   ],
   "source": [
    "res_test.shape # Checking shape of test dataset"
   ]
  },
  {
   "cell_type": "code",
   "execution_count": 377,
   "metadata": {},
   "outputs": [],
   "source": [
    "# Adding a column for dataset identification\n",
    "res_test['Identify']= 'Test'\n",
    "res_train['Identify']='Train'"
   ]
  },
  {
   "cell_type": "code",
   "execution_count": 378,
   "metadata": {},
   "outputs": [
    {
     "data": {
      "application/javascript": [
       "\n",
       "        if (window._pyforest_update_imports_cell) { window._pyforest_update_imports_cell('import pandas as pd\\nimport numpy as np\\nimport seaborn as sns\\nimport matplotlib.pyplot as plt'); }\n",
       "    "
      ],
      "text/plain": [
       "<IPython.core.display.Javascript object>"
      ]
     },
     "metadata": {},
     "output_type": "display_data"
    }
   ],
   "source": [
    "res = pd.concat([res_train,res_test], ignore_index = True) # Concatinating both datasets"
   ]
  },
  {
   "cell_type": "code",
   "execution_count": 379,
   "metadata": {},
   "outputs": [
    {
     "data": {
      "text/html": [
       "<div>\n",
       "<style scoped>\n",
       "    .dataframe tbody tr th:only-of-type {\n",
       "        vertical-align: middle;\n",
       "    }\n",
       "\n",
       "    .dataframe tbody tr th {\n",
       "        vertical-align: top;\n",
       "    }\n",
       "\n",
       "    .dataframe thead th {\n",
       "        text-align: right;\n",
       "    }\n",
       "</style>\n",
       "<table border=\"1\" class=\"dataframe\">\n",
       "  <thead>\n",
       "    <tr style=\"text-align: right;\">\n",
       "      <th></th>\n",
       "      <th>TITLE</th>\n",
       "      <th>RESTAURANT_ID</th>\n",
       "      <th>CUISINES</th>\n",
       "      <th>TIME</th>\n",
       "      <th>CITY</th>\n",
       "      <th>LOCALITY</th>\n",
       "      <th>RATING</th>\n",
       "      <th>VOTES</th>\n",
       "      <th>COST</th>\n",
       "      <th>Identify</th>\n",
       "    </tr>\n",
       "  </thead>\n",
       "  <tbody>\n",
       "    <tr>\n",
       "      <th>0</th>\n",
       "      <td>CASUAL DINING</td>\n",
       "      <td>9438</td>\n",
       "      <td>Malwani, Goan, North Indian</td>\n",
       "      <td>11am – 4pm, 7:30pm – 11:30pm (Mon-Sun)</td>\n",
       "      <td>Thane</td>\n",
       "      <td>Dombivali East</td>\n",
       "      <td>3.6</td>\n",
       "      <td>49 votes</td>\n",
       "      <td>1200.0</td>\n",
       "      <td>Train</td>\n",
       "    </tr>\n",
       "    <tr>\n",
       "      <th>1</th>\n",
       "      <td>CASUAL DINING,BAR</td>\n",
       "      <td>13198</td>\n",
       "      <td>Asian, Modern Indian, Japanese</td>\n",
       "      <td>6pm – 11pm (Mon-Sun)</td>\n",
       "      <td>Chennai</td>\n",
       "      <td>Ramapuram</td>\n",
       "      <td>4.2</td>\n",
       "      <td>30 votes</td>\n",
       "      <td>1500.0</td>\n",
       "      <td>Train</td>\n",
       "    </tr>\n",
       "    <tr>\n",
       "      <th>2</th>\n",
       "      <td>CASUAL DINING</td>\n",
       "      <td>10915</td>\n",
       "      <td>North Indian, Chinese, Biryani, Hyderabadi</td>\n",
       "      <td>11am – 3:30pm, 7pm – 11pm (Mon-Sun)</td>\n",
       "      <td>Chennai</td>\n",
       "      <td>Saligramam</td>\n",
       "      <td>3.8</td>\n",
       "      <td>221 votes</td>\n",
       "      <td>800.0</td>\n",
       "      <td>Train</td>\n",
       "    </tr>\n",
       "    <tr>\n",
       "      <th>3</th>\n",
       "      <td>QUICK BITES</td>\n",
       "      <td>6346</td>\n",
       "      <td>Tibetan, Chinese</td>\n",
       "      <td>11:30am – 1am (Mon-Sun)</td>\n",
       "      <td>Mumbai</td>\n",
       "      <td>Bandra West</td>\n",
       "      <td>4.1</td>\n",
       "      <td>24 votes</td>\n",
       "      <td>800.0</td>\n",
       "      <td>Train</td>\n",
       "    </tr>\n",
       "    <tr>\n",
       "      <th>4</th>\n",
       "      <td>DESSERT PARLOR</td>\n",
       "      <td>15387</td>\n",
       "      <td>Desserts</td>\n",
       "      <td>11am – 1am (Mon-Sun)</td>\n",
       "      <td>Mumbai</td>\n",
       "      <td>Lower Parel</td>\n",
       "      <td>3.8</td>\n",
       "      <td>165 votes</td>\n",
       "      <td>300.0</td>\n",
       "      <td>Train</td>\n",
       "    </tr>\n",
       "    <tr>\n",
       "      <th>5</th>\n",
       "      <td>CASUAL DINING</td>\n",
       "      <td>5618</td>\n",
       "      <td>North Indian, Chinese, Seafood, Biryani</td>\n",
       "      <td>12noon – 12:30AM (Mon-Sun)</td>\n",
       "      <td>Mumbai</td>\n",
       "      <td>Vile Parle West</td>\n",
       "      <td>4.0</td>\n",
       "      <td>550 votes</td>\n",
       "      <td>800.0</td>\n",
       "      <td>Train</td>\n",
       "    </tr>\n",
       "    <tr>\n",
       "      <th>6</th>\n",
       "      <td>CAFÉ</td>\n",
       "      <td>4383</td>\n",
       "      <td>Cafe, Chinese, Pizza, North Indian, Burger</td>\n",
       "      <td>12noon – 11:30pm (Mon, Tue, Thu, Fri, Sat, Sun...</td>\n",
       "      <td>Bangalore</td>\n",
       "      <td>Koramangala 6th Block</td>\n",
       "      <td>4.1</td>\n",
       "      <td>509 votes</td>\n",
       "      <td>600.0</td>\n",
       "      <td>Train</td>\n",
       "    </tr>\n",
       "    <tr>\n",
       "      <th>7</th>\n",
       "      <td>MICROBREWERY</td>\n",
       "      <td>1249</td>\n",
       "      <td>Bar Food</td>\n",
       "      <td>1pm – 1am (Mon-Sun)</td>\n",
       "      <td>Gurgaon</td>\n",
       "      <td>Sector 29</td>\n",
       "      <td>4.3</td>\n",
       "      <td>1612 votes</td>\n",
       "      <td>1600.0</td>\n",
       "      <td>Train</td>\n",
       "    </tr>\n",
       "    <tr>\n",
       "      <th>8</th>\n",
       "      <td>QUICK BITES</td>\n",
       "      <td>7062</td>\n",
       "      <td>South Indian, North Indian</td>\n",
       "      <td>7am – 10:30pm (Mon-Sun)</td>\n",
       "      <td>Bangalore</td>\n",
       "      <td>Bannerghatta Road</td>\n",
       "      <td>3.9</td>\n",
       "      <td>101 votes</td>\n",
       "      <td>300.0</td>\n",
       "      <td>Train</td>\n",
       "    </tr>\n",
       "    <tr>\n",
       "      <th>9</th>\n",
       "      <td>QUICK BITES</td>\n",
       "      <td>10109</td>\n",
       "      <td>North Indian</td>\n",
       "      <td>11am – 2pm, 4pm – 10:30pm (Mon-Sun)</td>\n",
       "      <td>Hyderabad</td>\n",
       "      <td>Dilsukhnagar</td>\n",
       "      <td>3.3</td>\n",
       "      <td>219 votes</td>\n",
       "      <td>200.0</td>\n",
       "      <td>Train</td>\n",
       "    </tr>\n",
       "  </tbody>\n",
       "</table>\n",
       "</div>"
      ],
      "text/plain": [
       "               TITLE  RESTAURANT_ID  \\\n",
       "0      CASUAL DINING           9438   \n",
       "1  CASUAL DINING,BAR          13198   \n",
       "2      CASUAL DINING          10915   \n",
       "3        QUICK BITES           6346   \n",
       "4     DESSERT PARLOR          15387   \n",
       "5      CASUAL DINING           5618   \n",
       "6               CAFÉ           4383   \n",
       "7       MICROBREWERY           1249   \n",
       "8        QUICK BITES           7062   \n",
       "9        QUICK BITES          10109   \n",
       "\n",
       "                                     CUISINES  \\\n",
       "0                 Malwani, Goan, North Indian   \n",
       "1              Asian, Modern Indian, Japanese   \n",
       "2  North Indian, Chinese, Biryani, Hyderabadi   \n",
       "3                            Tibetan, Chinese   \n",
       "4                                    Desserts   \n",
       "5     North Indian, Chinese, Seafood, Biryani   \n",
       "6  Cafe, Chinese, Pizza, North Indian, Burger   \n",
       "7                                    Bar Food   \n",
       "8                  South Indian, North Indian   \n",
       "9                                North Indian   \n",
       "\n",
       "                                                TIME       CITY  \\\n",
       "0             11am – 4pm, 7:30pm – 11:30pm (Mon-Sun)      Thane   \n",
       "1                               6pm – 11pm (Mon-Sun)    Chennai   \n",
       "2                11am – 3:30pm, 7pm – 11pm (Mon-Sun)    Chennai   \n",
       "3                            11:30am – 1am (Mon-Sun)     Mumbai   \n",
       "4                               11am – 1am (Mon-Sun)     Mumbai   \n",
       "5                         12noon – 12:30AM (Mon-Sun)     Mumbai   \n",
       "6  12noon – 11:30pm (Mon, Tue, Thu, Fri, Sat, Sun...  Bangalore   \n",
       "7                                1pm – 1am (Mon-Sun)    Gurgaon   \n",
       "8                            7am – 10:30pm (Mon-Sun)  Bangalore   \n",
       "9                11am – 2pm, 4pm – 10:30pm (Mon-Sun)  Hyderabad   \n",
       "\n",
       "                LOCALITY RATING       VOTES    COST Identify  \n",
       "0         Dombivali East    3.6    49 votes  1200.0    Train  \n",
       "1              Ramapuram    4.2    30 votes  1500.0    Train  \n",
       "2             Saligramam    3.8   221 votes   800.0    Train  \n",
       "3            Bandra West    4.1    24 votes   800.0    Train  \n",
       "4            Lower Parel    3.8   165 votes   300.0    Train  \n",
       "5        Vile Parle West    4.0   550 votes   800.0    Train  \n",
       "6  Koramangala 6th Block    4.1   509 votes   600.0    Train  \n",
       "7              Sector 29    4.3  1612 votes  1600.0    Train  \n",
       "8      Bannerghatta Road    3.9   101 votes   300.0    Train  \n",
       "9           Dilsukhnagar    3.3   219 votes   200.0    Train  "
      ]
     },
     "execution_count": 379,
     "metadata": {},
     "output_type": "execute_result"
    }
   ],
   "source": [
    "res.head(10) # Checking the final datset "
   ]
  },
  {
   "cell_type": "raw",
   "metadata": {},
   "source": [
    "From the dataset we can observe:\n",
    "1. Title, cousines, time, votes carry multiple cateegorical information in same column, which shall be separated & cleaned."
   ]
  },
  {
   "cell_type": "code",
   "execution_count": 380,
   "metadata": {},
   "outputs": [],
   "source": [
    "# Lets eliminate white spaces for the ease of processing data\n",
    "list = ['TITLE','CUISINES','TIME','RATING','Identify', 'CITY','LOCALITY']\n",
    "for i in list:\n",
    "    res[i] = res[i].str.replace(' ', '')"
   ]
  },
  {
   "cell_type": "code",
   "execution_count": 381,
   "metadata": {},
   "outputs": [
    {
     "name": "stdout",
     "output_type": "stream",
     "text": [
      "TITLE               0\n",
      "RESTAURANT_ID       0\n",
      "CUISINES            0\n",
      "TIME                0\n",
      "CITY              147\n",
      "LOCALITY          128\n",
      "RATING              4\n",
      "VOTES            1606\n",
      "COST             4231\n",
      "Identify            0\n",
      "dtype: int64\n",
      "XXXXXXXXXXXXXXXXXXXXXXXXXXXXXXXXXXXXXXXXXXXXXXXXXXXXXXXXXXXXXXXXXXXXXXXXXXXXXXXX\n",
      "<class 'pandas.core.frame.DataFrame'>\n",
      "RangeIndex: 16921 entries, 0 to 16920\n",
      "Data columns (total 10 columns):\n",
      " #   Column         Non-Null Count  Dtype  \n",
      "---  ------         --------------  -----  \n",
      " 0   TITLE          16921 non-null  object \n",
      " 1   RESTAURANT_ID  16921 non-null  int64  \n",
      " 2   CUISINES       16921 non-null  object \n",
      " 3   TIME           16921 non-null  object \n",
      " 4   CITY           16774 non-null  object \n",
      " 5   LOCALITY       16793 non-null  object \n",
      " 6   RATING         16917 non-null  object \n",
      " 7   VOTES          15315 non-null  object \n",
      " 8   COST           12690 non-null  float64\n",
      " 9   Identify       16921 non-null  object \n",
      "dtypes: float64(1), int64(1), object(8)\n",
      "memory usage: 1.3+ MB\n",
      "None\n",
      "XXXXXXXXXXXXXXXXXXXXXXXXXXXXXXXXXXXXXXXXXXXXXXXXXXXXXXXXXXXXXXXXXXXXXXXXXXXXXXXX\n"
     ]
    },
    {
     "data": {
      "application/javascript": [
       "\n",
       "        if (window._pyforest_update_imports_cell) { window._pyforest_update_imports_cell('import pandas as pd\\nimport numpy as np\\nimport seaborn as sns\\nimport matplotlib.pyplot as plt'); }\n",
       "    "
      ],
      "text/plain": [
       "<IPython.core.display.Javascript object>"
      ]
     },
     "metadata": {},
     "output_type": "display_data"
    },
    {
     "data": {
      "application/javascript": [
       "\n",
       "        if (window._pyforest_update_imports_cell) { window._pyforest_update_imports_cell('import pandas as pd\\nimport numpy as np\\nimport seaborn as sns\\nimport matplotlib.pyplot as plt'); }\n",
       "    "
      ],
      "text/plain": [
       "<IPython.core.display.Javascript object>"
      ]
     },
     "metadata": {},
     "output_type": "display_data"
    },
    {
     "data": {
      "application/javascript": [
       "\n",
       "        if (window._pyforest_update_imports_cell) { window._pyforest_update_imports_cell('import pandas as pd\\nimport numpy as np\\nimport seaborn as sns\\nimport matplotlib.pyplot as plt'); }\n",
       "    "
      ],
      "text/plain": [
       "<IPython.core.display.Javascript object>"
      ]
     },
     "metadata": {},
     "output_type": "display_data"
    },
    {
     "data": {
      "image/png": "[encoded data removed]",
      "text/plain": [
       "<Figure size 432x288 with 2 Axes>"
      ]
     },
     "metadata": {
      "needs_background": "light"
     },
     "output_type": "display_data"
    }
   ],
   "source": [
    "print(res.isnull().sum())\n",
    "print('X'*80)\n",
    "print(res.info())\n",
    "print('X'*80)\n",
    "sns.heatmap(res.isnull())\n",
    "plt.title('Null Values')\n",
    "plt.show()"
   ]
  },
  {
   "cell_type": "raw",
   "metadata": {},
   "source": [
    "# We can see that CITY, LOCALITY,RATING ,VOTES,COST columns are with null values where in cost null values are from test dataset\n",
    "# Restaurant_ID is a unique value for each restaurant hence can be droped."
   ]
  },
  {
   "cell_type": "code",
   "execution_count": 382,
   "metadata": {},
   "outputs": [],
   "source": [
    "# Function to analyse columns\n",
    "def cat_ana(df, x = None):\n",
    "    series = df[x]\n",
    "    print(f'Stats summary \\n{series.describe()}')\n",
    "    print('+' *80)\n",
    "    print(f'Null values \\n{series.isnull().sum()}')\n",
    "    print('+' *80)\n",
    "    print(f'Series value count is \\n{series.value_counts()}')\n",
    "    print('+' *80)\n",
    "    print(f'Unique values \\n{series.unique()}')"
   ]
  },
  {
   "cell_type": "code",
   "execution_count": 383,
   "metadata": {},
   "outputs": [
    {
     "name": "stdout",
     "output_type": "stream",
     "text": [
      "Stats summary \n",
      "count          16921\n",
      "unique           123\n",
      "top       QUICKBITES\n",
      "freq            5634\n",
      "Name: TITLE, dtype: object\n",
      "++++++++++++++++++++++++++++++++++++++++++++++++++++++++++++++++++++++++++++++++\n",
      "Null values \n",
      "0\n",
      "++++++++++++++++++++++++++++++++++++++++++++++++++++++++++++++++++++++++++++++++\n",
      "Series value count is \n",
      "QUICKBITES                5634\n",
      "CASUALDINING              4910\n",
      "None                      1287\n",
      "CAFÉ                       830\n",
      "DESSERTPARLOR              508\n",
      "                          ... \n",
      "SWEETSHOP,BEVERAGESHOP       1\n",
      "CLUB,MICROBREWERY            1\n",
      "BAKERY,CASUALDINING          1\n",
      "DESSERTPARLOR,KIOSK          1\n",
      "BAR,MICROBREWERY             1\n",
      "Name: TITLE, Length: 123, dtype: int64\n",
      "++++++++++++++++++++++++++++++++++++++++++++++++++++++++++++++++++++++++++++++++\n",
      "Unique values \n",
      "['CASUALDINING' 'CASUALDINING,BAR' 'QUICKBITES' 'DESSERTPARLOR' 'CAFÉ'\n",
      " 'MICROBREWERY' 'QUICKBITES,BEVERAGESHOP' 'CASUALDINING,IRANICAFE'\n",
      " 'BAKERY,QUICKBITES' 'None' 'BAR,CASUALDINING' 'BAR' 'PUB' 'BEVERAGESHOP'\n",
      " 'FINEDINING' 'CAFÉ,QUICKBITES' 'BEVERAGESHOP,DESSERTPARLOR'\n",
      " 'SWEETSHOP,QUICKBITES' 'DESSERTPARLOR,SWEETSHOP' 'BAKERY'\n",
      " 'BAKERY,DESSERTPARLOR' 'BAR,LOUNGE' 'FOODCOURT' 'LOUNGE'\n",
      " 'DESSERTPARLOR,BEVERAGESHOP' 'LOUNGE,CASUALDINING' 'FOODTRUCK'\n",
      " 'QUICKBITES,FOODCOURT' 'SWEETSHOP' 'BEVERAGESHOP,FOODCOURT'\n",
      " 'PUB,CASUALDINING' 'MESS' 'MICROBREWERY,CASUALDINING'\n",
      " 'CASUALDINING,SWEETSHOP' 'KIOSK' 'QUICKBITES,KIOSK' 'CLUB'\n",
      " 'FINEDINING,BAR' 'DESSERTPARLOR,QUICKBITES' 'FOODCOURT,QUICKBITES'\n",
      " 'LOUNGE,CAFÉ' 'BAKERY,CONFECTIONERY' 'CASUALDINING,CAFÉ' 'DHABA'\n",
      " 'CAFÉ,DESSERTPARLOR' 'QUICKBITES,DESSERTPARLOR' 'PUB,MICROBREWERY'\n",
      " 'LOUNGE,BAR' 'DESSERTPARLOR,CAFÉ' 'CAFÉ,BAR' 'SWEETSHOP,CONFECTIONERY'\n",
      " 'CASUALDINING,PUB' 'MICROBREWERY,BAR' 'DESSERTPARLOR,BAKERY'\n",
      " 'QUICKBITES,SWEETSHOP' 'BEVERAGESHOP,QUICKBITES' 'CASUALDINING,LOUNGE'\n",
      " 'CASUALDINING,CLUB' 'QUICKBITES,CAFÉ' 'BAR,CAFÉ' 'CAFÉ,CASUALDINING'\n",
      " 'QUICKBITES,CASUALDINING' 'CASUALDINING,MICROBREWERY'\n",
      " 'CASUALDINING,BAKERY' 'CAFÉ,BAKERY' 'MEATSHOP' 'QUICKBITES,BAKERY'\n",
      " 'BAR,FINEDINING' 'SWEETSHOP,CASUALDINING' 'MEATSHOP,QUICKBITES'\n",
      " 'PUB,LOUNGE' 'BAKERY,CAFÉ' 'COCKTAILBAR' 'FINEDINING,LOUNGE'\n",
      " 'CONFECTIONERY' 'QUICKBITES,BAR' 'BAKERY,FOODCOURT' 'PUB,BAR'\n",
      " 'DESSERTPARLOR,FOODCOURT' 'QUICKBITES,FOODTRUCK' 'BAKERY,BEVERAGESHOP'\n",
      " 'CLUB,BAR' 'BAKERY,SWEETSHOP' 'SWEETSHOP,BAKERY' 'CASUALDINING,FOODCOURT'\n",
      " 'PAANSHOP' 'BEVERAGESHOP,CAFÉ' 'FOODCOURT,DESSERTPARLOR'\n",
      " 'CLUB,MICROBREWERY' 'CAFÉ,BEVERAGESHOP' 'DESSERTPARLOR,PAANSHOP'\n",
      " 'MICROBREWERY,LOUNGE' 'LOUNGE,CLUB' 'SWEETSHOP,DESSERTPARLOR' 'BAR,PUB'\n",
      " 'CONFECTIONERY,QUICKBITES' 'DESSERTPARLOR,KIOSK' 'LOUNGE,PUB'\n",
      " 'SWEETSHOP,BEVERAGESHOP' 'FINEDINING,CAFÉ' 'BEVERAGESHOP,CASUALDINING'\n",
      " 'KIOSK,QUICKBITES' 'CASUALDINING,DESSERTPARLOR' 'LOUNGE,FINEDINING'\n",
      " 'PUB,CAFÉ' 'CAFÉ,LOUNGE' 'BAR,CLUB' 'COCKTAILBAR,CASUALDINING'\n",
      " 'MICROBREWERY,PUB' 'CAFÉ,FINEDINING' 'KIOSK,FOODCOURT'\n",
      " 'LOUNGE,MICROBREWERY' 'BAR,MICROBREWERY' 'FOODTRUCK,DESSERTPARLOR'\n",
      " 'IRANICAFE,BAKERY' 'BAKERY,CASUALDINING' 'PUB,FINEDINING'\n",
      " 'CAFÉ,FOODCOURT' 'FINEDINING,MICROBREWERY' 'CLUB,FINEDINING'\n",
      " 'QUICKBITES,MEATSHOP' 'CLUB,CASUALDINING' 'BHOJANALYA']\n"
     ]
    }
   ],
   "source": [
    "cat_ana(res, x = 'TITLE')"
   ]
  },
  {
   "cell_type": "raw",
   "metadata": {},
   "source": [
    "# We can observe that he column has several entries that type of foodserved by restaurant is seperated by \"commas\" which shall be cleaned\n",
    "# There are no null values"
   ]
  },
  {
   "cell_type": "code",
   "execution_count": 384,
   "metadata": {},
   "outputs": [
    {
     "name": "stdout",
     "output_type": "stream",
     "text": [
      "Stats summary \n",
      "count           16921\n",
      "unique           5183\n",
      "top       NorthIndian\n",
      "freq              716\n",
      "Name: CUISINES, dtype: object\n",
      "++++++++++++++++++++++++++++++++++++++++++++++++++++++++++++++++++++++++++++++++\n",
      "Null values \n",
      "0\n",
      "++++++++++++++++++++++++++++++++++++++++++++++++++++++++++++++++++++++++++++++++\n",
      "Series value count is \n",
      "NorthIndian                                               716\n",
      "NorthIndian,Chinese                                       714\n",
      "SouthIndian                                               706\n",
      "FastFood                                                  364\n",
      "Chinese                                                   226\n",
      "                                                         ... \n",
      "Bakery,Cafe,Pizza,Burger,Sandwich                           1\n",
      "Arabian,Rolls,FastFood,Biryani,Lebanese                     1\n",
      "HealthyFood,SouthIndian,FastFood,NorthIndian,Beverages      1\n",
      "Thai,Asian,Chinese,Italian,Japanese,Malaysian,Momos         1\n",
      "FastFood,StreetFood,Desserts,Beverages                      1\n",
      "Name: CUISINES, Length: 5183, dtype: int64\n",
      "++++++++++++++++++++++++++++++++++++++++++++++++++++++++++++++++++++++++++++++++\n",
      "Unique values \n",
      "['Malwani,Goan,NorthIndian' 'Asian,ModernIndian,Japanese'\n",
      " 'NorthIndian,Chinese,Biryani,Hyderabadi' ...\n",
      " 'European,Mediterranean,Italian,Sushi' 'NorthIndian,Chinese,Kebab,Juices'\n",
      " 'Sindhi,StreetFood']\n"
     ]
    }
   ],
   "source": [
    "cat_ana(res, x = 'CUISINES')"
   ]
  },
  {
   "cell_type": "raw",
   "metadata": {},
   "source": [
    "# We can observe that he column has several entries i .e various types of cuisines served bt restaurant seperated by \"commas\" which shall be cleaned\n",
    "# There are no null values"
   ]
  },
  {
   "cell_type": "code",
   "execution_count": 385,
   "metadata": {},
   "outputs": [
    {
     "name": "stdout",
     "output_type": "stream",
     "text": [
      "Stats summary \n",
      "count     16921\n",
      "unique     2076\n",
      "top         nan\n",
      "freq       1606\n",
      "Name: VOTES, dtype: object\n",
      "++++++++++++++++++++++++++++++++++++++++++++++++++++++++++++++++++++++++++++++++\n",
      "Null values \n",
      "0\n",
      "++++++++++++++++++++++++++++++++++++++++++++++++++++++++++++++++++++++++++++++++\n",
      "Series value count is \n",
      "nan           1606\n",
      "44 votes        92\n",
      "22 votes        88\n",
      "6 votes         87\n",
      "29 votes        83\n",
      "              ... \n",
      "2585 votes       1\n",
      "2604 votes       1\n",
      "1486 votes       1\n",
      "1810 votes       1\n",
      "6508 votes       1\n",
      "Name: VOTES, Length: 2076, dtype: int64\n",
      "++++++++++++++++++++++++++++++++++++++++++++++++++++++++++++++++++++++++++++++++\n",
      "Unique values \n",
      "['49 votes' '30 votes' '221 votes' ... '2159 votes' '3807 votes'\n",
      " '1913 votes']\n"
     ]
    }
   ],
   "source": [
    "res['VOTES'] = res['VOTES'].astype(str)\n",
    "cat_ana(res, x = 'VOTES')"
   ]
  },
  {
   "cell_type": "raw",
   "metadata": {},
   "source": [
    "# The column provides information for the no. of votes received by restraurant though is combination of two char's which shall be separated & cleaned.\n",
    "# Has significant null values\n",
    "# Votes received can play significant role in deciding pricing for a restaurant."
   ]
  },
  {
   "cell_type": "code",
   "execution_count": 386,
   "metadata": {},
   "outputs": [
    {
     "name": "stdout",
     "output_type": "stream",
     "text": [
      "Stats summary \n",
      "count                  16921\n",
      "unique                  3295\n",
      "top       11am–11pm(Mon-Sun)\n",
      "freq                    1862\n",
      "Name: TIME, dtype: object\n",
      "++++++++++++++++++++++++++++++++++++++++++++++++++++++++++++++++++++++++++++++++\n",
      "Null values \n",
      "0\n",
      "++++++++++++++++++++++++++++++++++++++++++++++++++++++++++++++++++++++++++++++++\n",
      "Series value count is \n",
      "11am–11pm(Mon-Sun)                             1862\n",
      "12noon–12midnight(Mon-Sun)                      615\n",
      "12noon–11pm(Mon-Sun)                            541\n",
      "11am–12midnight(Mon-Sun)                        419\n",
      "10am–10pm(Mon-Sun)                              288\n",
      "                                               ... \n",
      "12noon–3:30pm,7pm–2am(Mon),12noon–...             1\n",
      "11am–11:5pm(Mon),11am–11pm(Tue-Sun)               1\n",
      "7pm–11pm(Mon-Thu),7pm–11:30pm(Fri-Sun)            1\n",
      "12noon–3:30pm,6:45pm–11pm(Mon-Sun)                1\n",
      "9:30am–10pm(Mon),9:30am–12midnight(Tue-Sun)       1\n",
      "Name: TIME, Length: 3295, dtype: int64\n",
      "++++++++++++++++++++++++++++++++++++++++++++++++++++++++++++++++++++++++++++++++\n",
      "Unique values \n",
      "['11am–4pm,7:30pm–11:30pm(Mon-Sun)' '6pm–11pm(Mon-Sun)'\n",
      " '11am–3:30pm,7pm–11pm(Mon-Sun)' ...\n",
      " '12noon–4pm,7pm–10:30pm(Mon-Sat),12noon–...'\n",
      " '6am–12:30AM(Mon,Tue,Wed,Thu,Sat,Sun),6am...'\n",
      " '11am–11:30pm(Mon,Tue,Wed,Thu,Sat,Sun),3pm...']\n"
     ]
    }
   ],
   "source": [
    "cat_ana(res, x = 'TIME')"
   ]
  },
  {
   "cell_type": "raw",
   "metadata": {},
   "source": [
    "# The data gives information on restaurant working time\n",
    "# Though opening time would not play significant role in deciding cost of products hence can be droped. "
   ]
  },
  {
   "cell_type": "code",
   "execution_count": 387,
   "metadata": {},
   "outputs": [
    {
     "name": "stdout",
     "output_type": "stream",
     "text": [
      "Stats summary \n",
      "count     16921\n",
      "unique       33\n",
      "top         3.9\n",
      "freq       1643\n",
      "Name: RATING, dtype: object\n",
      "++++++++++++++++++++++++++++++++++++++++++++++++++++++++++++++++++++++++++++++++\n",
      "Null values \n",
      "0\n",
      "++++++++++++++++++++++++++++++++++++++++++++++++++++++++++++++++++++++++++++++++\n",
      "Series value count is \n",
      "3.9    1643\n",
      "3.8    1604\n",
      "4.0    1498\n",
      "3.7    1437\n",
      "3.6    1261\n",
      "4.1    1217\n",
      "3.5     988\n",
      "4.2     968\n",
      "NEW     930\n",
      "3.4     777\n",
      "4.3     740\n",
      "-       672\n",
      "3.3     485\n",
      "4.4     484\n",
      "3.2     349\n",
      "4.5     274\n",
      "3.1     263\n",
      "2.9     242\n",
      "3.0     229\n",
      "2.8     191\n",
      "4.6     184\n",
      "2.7     129\n",
      "4.7      90\n",
      "2.6      85\n",
      "2.5      51\n",
      "4.8      49\n",
      "4.9      28\n",
      "2.4      24\n",
      "2.3      15\n",
      "nan       4\n",
      "2.2       4\n",
      "2.1       4\n",
      "2.0       2\n",
      "Name: RATING, dtype: int64\n",
      "++++++++++++++++++++++++++++++++++++++++++++++++++++++++++++++++++++++++++++++++\n",
      "Unique values \n",
      "['3.6' '4.2' '3.8' '4.1' '4.0' '4.3' '3.9' '3.3' '3.4' '-' '4.5' '3.5'\n",
      " '4.4' '2.7' '3.7' '4.7' 'NEW' '3.1' '2.5' '4.6' '2.8' 'nan' '3.0' '3.2'\n",
      " '2.6' '2.9' '4.9' '4.8' '2.4' '2.3' '2.0' '2.1' '2.2']\n"
     ]
    }
   ],
   "source": [
    "res['RATING'] = res['RATING'].astype(str)\n",
    "cat_ana(res, x = 'RATING')"
   ]
  },
  {
   "cell_type": "raw",
   "metadata": {},
   "source": [
    "# This column provides information about the restraurant rating\n",
    "# Colum contains float data, 'NEW'(May be refering to New restaurants), '-'(Not avalibale values), and Null values.\n",
    "# Rating place considerable role in cost factoring for any restaurant."
   ]
  },
  {
   "cell_type": "code",
   "execution_count": 388,
   "metadata": {},
   "outputs": [
    {
     "name": "stdout",
     "output_type": "stream",
     "text": [
      "Stats summary \n",
      "count       16774\n",
      "unique        449\n",
      "top       Chennai\n",
      "freq         2856\n",
      "Name: CITY, dtype: object\n",
      "++++++++++++++++++++++++++++++++++++++++++++++++++++++++++++++++++++++++++++++++\n",
      "Null values \n",
      "147\n",
      "++++++++++++++++++++++++++++++++++++++++++++++++++++++++++++++++++++++++++++++++\n",
      "Series value count is \n",
      "Chennai                    2856\n",
      "Bangalore                  2835\n",
      "Hyderabad                  2458\n",
      "Mumbai                     2311\n",
      "NewDelhi                   1754\n",
      "                           ... \n",
      "Gurgoan                       1\n",
      "Chenna                        1\n",
      "DLFGalleria                   1\n",
      "MaladEast                     1\n",
      "GreaterKailash2NewDelhi       1\n",
      "Name: CITY, Length: 449, dtype: int64\n",
      "++++++++++++++++++++++++++++++++++++++++++++++++++++++++++++++++++++++++++++++++\n",
      "Unique values \n",
      "['Thane' 'Chennai' 'Mumbai' 'Bangalore' 'Gurgaon' 'Hyderabad' 'Kochi'\n",
      " 'ThaneWest' 'AndheriLokhandwala' 'NewDelhi' 'AndheriWest' 'MaladEast'\n",
      " '682036' 'Bangalor' 'NaviMumbai' 'BandraWest' 'Delhi' 'Noida'\n",
      " 'Bangalore-560066' 'Secunderabad' nan 'India' 'Madhuranagar'\n",
      " 'ChennaiTeynampet' 'Faridabad' 'Chembur.' 'Maharashtra'\n",
      " 'oppgurudwaraShakurpur' 'TelaganaLandLine:040-48507016' 'Ghaziabad'\n",
      " 'Karnataka' 'Kerala' 'Edappally' 'Kadavanthra' 'ErnakulamCirclekochi'\n",
      " 'Bengalore' 'NearRelianceFresh' 'Kilpauk' 'Bengaluru' 'Kothaguda'\n",
      " 'GoregaonWest' 'Banglore' 'TamilNadu' 'Kakkanad' 'KochiElamkulam'\n",
      " 'OuterRingRoad' 'MulundEast' 'SecunderabadmainroadnearsignalNMRECCOLLEGE'\n",
      " 'Telangana' 'PonnuruniKochi' 'Gachibowli' 'Semmancheri'\n",
      " '5thMainTeachersColonyKoramangalaBlock1Bangalore560034' 'MumbaiMahim'\n",
      " 'Powai(NexttoPowaiPlaza)' 'DombivaliEast' 'KochiVyttila' 'Kandivali'\n",
      " 'KochiPalarivattom' 'DewanRamaRoad' 'Gurugram' 'Sector51Noida' 'Kaloor'\n",
      " 'BesantNagar' 'Arumbakkamchennai-600106.' 'AdjacentToCommercialStreet'\n",
      " 'DelhiNCR' 'Dwarka' '682035.' 'KalyanWest' 'Avadi' 'Kondapur'\n",
      " 'Mehdipatnam' 'Gandipet' 'Velachery' 'Pallavaram' 'VijayaNagar'\n",
      " 'BTMLayout' 'Chennai600034.'\n",
      " 'MetroPillarNo21.Mettugudamainroadnearrailwaydegreecollege.'\n",
      " 'Chennai-600040' 'JPNagarBangalore' 'Madhapur' 'Ernakulam' 'Sarjapur'\n",
      " 'WhitefieldBangalore' 'KochiChullickal' 'Kochi-683101' 'Bangalore-560076'\n",
      " 'Rohini' 'HyderabadBehindVacsPastries' 'Hyderabadneerusemporium.'\n",
      " 'NaviMumbai.' 'KarolBagh' 'Perungudi' 'Thykoodam' 'GreaterNoida'\n",
      " 'Bangalore.' 'Khairatabad' 'chullickal' 'GrantRoadWest' 'HitechCity'\n",
      " 'WestMaredpally' 'Mumbai-400007' 'ChennaiPadur' 'ChanderNagarNewDelhi'\n",
      " 'Nedumbassery' 'MGRoad' 'NayaNagarMiraRoad' 'Pitampura' 'LowerParel'\n",
      " 'HBRLayout' 'Telangana500003' 'RajivgandhiNagar' 'NewDelhi.' 'Medavakkam'\n",
      " 'SathyaNagar' 'p.oKochi' 'BehindRamalayamTemple' 'Palarivattom'\n",
      " 'BrigadeRoad' 'Mumbai.' 'MumbaiAndheriEast' 'VirarWest' 'B-1Stage'\n",
      " 'ChennaiKovalam' 'Hyderabad.' 'Aluva' 'Telangana500034'\n",
      " 'IOBBankKamalaNagar' 'HSRLayout' 'MarineDrive' 'DLFGalleria'\n",
      " 'NallathambiMainRoad' 'Chennaiopp:Vasanth&co' 'Citypark'\n",
      " 'Karnataka560103' 'Bhayandar' 'AluvaCircle' 'ThammenahalliVillage'\n",
      " 'SGPalya' 'Attapur.' 'NearShangrillaBusStop' 'Khar(west)' 'Road3'\n",
      " 'Kukatpally' 'Faridabd' 'Telangana500032' 'Dilsukhnagar'\n",
      " 'Mogappair.Chennai' 'NearMunrshwaraTemple' 'OffBrigadeRoad' 'kharwest'\n",
      " 'Potheri' 'ChennaiPerungudi' 'ChennaiThuraipakkam' 'OMRKarapakkam'\n",
      " 'Hyderabad-500032' 'MumbaiDombivaliEast' 'ChennaiThousandLights' 'Mahim'\n",
      " 'Lingampally' 'Powai' 'NewDelhi-110024' 'Chennai-600107' 'Kerala683104'\n",
      " 'VasaiWest.' 'Thane(W)' 'NearSantoshBanjaraHyderabad'\n",
      " 'Banaswadi(NexttoIndianBank)Bangalore' 'BTMBangalore'\n",
      " 'GreaterKailash2NewDelhi' 'SecunderabadECIL'\n",
      " 'BangaloreKoramangala7thBlock' 'bangalore:560085' 'navimumbai'\n",
      " 'GachibowliHyderabad'\n",
      " 'CPRlayoutharlurmainroadoppositetoozoneevergreenapartmentBangalore-'\n",
      " 'ECRNEELANKARAIChennai600115' 'wardX11' 'kochi' 'Perumbavoor'\n",
      " 'Miraraodeast' 'Kerala682013' 'Chennai.' 'PokhranRoad2' 'UttarPradesh'\n",
      " 'Karnataka560102' 'Mumbai-400013' 'Naharpar' 'HosurRoad'\n",
      " 'NearBharatPetroleum.' 'Chennai(BangOppositeIndianBank)' 'Sriramnagar'\n",
      " 'WestMumbai' 'Vyttila' 'BanjaraHills' 'MALAPALLIPURAMP.OTHRISSUR'\n",
      " 'AndheriwestMumbai' 'Karnataka560043' 'PanampillyNagar' 'hyderabad'\n",
      " 'BorivaliEast.' 'ECIL' 'JubileeHills'\n",
      " 'Amritkaurmarketoppositenewdelhirailwaystationpaharganj'\n",
      " 'ChennaiOpposite5CBusstand' 'Telengana' 'KochiRavipuram' 'Rajanpada'\n",
      " 'Mahabalipuram' 'Secunderabad.WEHAVENOBRANCHES.' 'Telangana500081'\n",
      " 'Gurgoan' 'Elamakkara' 'Sector1' 'BandraW' 'Kolathur'\n",
      " 'ChennaiMahabalipuram' '3rdStreet' 'MumbaiChakala' 'BorivaliWest'\n",
      " 'RodeoDriveSector49' 'Pallimukku' 'Delhi110085' 'Sector51' 'Champapet'\n",
      " 'AndavarNagar' 'Bangalore-560103' 'Kerala690525'\n",
      " 'oppmukteshwarashrampowai' 'Nungambakkam' 'BKGuda' 'Jogeshwari(w)Mumbai'\n",
      " 'Kukatapally' 'NearSector110Noida' 'Navallur' 'BesideExcellencyGardens'\n",
      " 'Mumbai-80' 'Begumpet' 'MaharajaHotelBesideGardaniaBar'\n",
      " 'AshokViharPhase1' 'Trivandrum' 'Kochi-18' 'Narayanguda' 'Thevera'\n",
      " 'Chennai-40' 'PalmBeachRoad' 'EastCoastRoad(ECR)' 'Ramapuram'\n",
      " 'ChennaiChrompet' 'Nandanam' 'Saket' 'MGRoadErnakulam'\n",
      " 'AndheriLokhandwala.' 'Indiranagar' 'Thiruvanmiyur' 'Ambattur'\n",
      " 'Banglaore' 'Chennai-34Landmark-NearLoyolaCollege' 'AnnaNagarWest'\n",
      " 'OldRailwayRoad' 'EastMumbai' 'KanakapuraRoadBanglore' 'KochiKakkanad'\n",
      " 'Kalyan' 'NearRamlilaGround' 'Serilingampally' 'HimayathNagar'\n",
      " 'NallalaStreet' 'AnnaSalai' 'OldDelhi' 'WagleEstate' '1stStage'\n",
      " 'Kochi-16' 'KochiInternationalAirportVIPRoad' 'FirstStreet'\n",
      " '6&7-4/64SubhashNagar' '1stTavarekere' 'Perambur' 'VaishaliGhaziabad'\n",
      " 'Thanisandra' 'BlockF' 'Sector7Dwarka' 'OppositeBarathiGasCompany'\n",
      " 'Vadapalani' 'Kondapur.' 'BadlapurWest.' 'Kalamassery' 'Palavakkam'\n",
      " 'TCSSynergypark' 'BTM1stStage' 'Mahadevpura' 'NEWBELROAD560054'\n",
      " 'VeliaveetilhouseVivekanandaNagarElamakkara' 'Sholinganallur'\n",
      " 'Maharashtra400102' 'LowerParelWest' 'Tripunithura' 'Mogappair'\n",
      " 'Telangana500070' 'JPNagar' 'Navi-Mumbai' 'AshokNagar' 'Marathahalli'\n",
      " 'HaridwarApartments' 'Kerala682001India' 'Karnataka560037' 'Kerala683585'\n",
      " 'Chennai.(NearHotelMatshya)' 'Indirapuram' 'BegumpetHyderabad'\n",
      " 'Manikonda' 'Bangalorelandmarkabovemahaveerhardware' 'Kerala682304'\n",
      " 'RajarajeshwariNagarbangalore' 'GSTRoad' 'FortKochi' 'LahariApartments'\n",
      " 'Ramanthapur' 'Mulundwest' 'GurgaonHaryanaIndia'\n",
      " 'NewDelhi..NearbySBIbank' 'KochiAluva102' 'Phase1Bangalore'\n",
      " 'HyderabadManikonda' 'MumbaiThisisaDelivery&Take-awayRestaurantonly.'\n",
      " '10thavenue' 'Uppal' 'NewDelhi110075' 'Nizampet' 'Ulsoo'\n",
      " 'Bangalore560076' 'PVRplazacinemabuildingConnaughtPlace' 'GurgaonHaryana'\n",
      " 'Chromepet' 'Kerala682024' 'Janakpuri' 'Secunderabad.' 'chennai'\n",
      " 'B.B.M.PEast(Karnataka)-560049' 'Tambaram' 'MalleshwaramBangalore'\n",
      " 'Vadapalani.' 'Dist.CenterNewDelhi' 'BangaloreRoad' 'aluvacircle'\n",
      " 'Kochi.' 'ThaneMumbai' 'KadubesanahalliBangalore' 'Vasaiwest'\n",
      " 'MigHousingSociety' 'Haryana' 'BorivaliWest.' 'GolfCourseRoad'\n",
      " 'KharMumbai' 'NearJyothinivasCollege' 'AnnaNagarEast' 'MasabTank'\n",
      " 'VasaiMumbai' 'PanathurMainRoad' 'NearAndheriWestStation'\n",
      " 'oppositetowesternsideofITPLServicegate' 'Kalkaji' 'APRChambers'\n",
      " 'TamilNadu600102' 'Maharashtra.' 'GandhinagarRd' 'NearAndheriEastStation'\n",
      " 'Whitefield' 'Kerala682036' 'MiraRoadThaneMumbai' 'IndiaGateNewDelhi'\n",
      " 'Bangalore-560095' 'Sholinganallur.Chennai'\n",
      " 'Chennai(AboveBombayBrasserie)' 'Chennai37' '682024' 'Girgaum'\n",
      " 'GreaterKailash1(GK1)NewDelhi' 'Kurla(W)' 'Mumbai400015'\n",
      " 'ThaneWestThaneWest' 'KochiPanampillyNagar' 'Marad' 'Maharashtra400092'\n",
      " 'NearSector34' 'MehdipatnamHyderabad' 'Nallagandla' 'Vandalur'\n",
      " 'MulundWest' 'Chennai40' 'Secunderbad' 'MMNagar' 'Mumbai400070'\n",
      " 'Chittethukkara' 'BTM' 'Dombivli' 'SahakaraNagar' 'MohammadAliRoadMumbai'\n",
      " 'Chennai600040' 'TavarekereMainRoad' 'CommunityCentre' 'Kerala682022'\n",
      " 'Delh.' 'Sector-6Noida201301' 'KaaraikudiComplex'\n",
      " 'Thiruvanmiyur(OppEurokidsLBRoad)' 'VirarMumbai' 'Tolichowki' 'Hyderaba'\n",
      " 'Kerala682305' 'Alwarpet' 'Kerala682015' 'MumbaiVeeraDesaiArea'\n",
      " 'Kerala682018' 'Kerala682028' 'Suraram' 'ChennaiVelachery'\n",
      " 'ForumSujanaMallOppositetoMalaysiantownship' 'OldHafeezpet' 'Yousufguda'\n",
      " 'Chennai-600008' 'MumbaiUlhasnagar' 'JogeshwariWestMumbai' 'Chepauk'\n",
      " 'Chowpatty' 'ChurchStreet' 'BalavinayagarNagarChennai' 'T-NagarChennai'\n",
      " 'RAPuram' 'Hyderabad.StarhypermarketoppositesideServiceroad'\n",
      " 'ChennaiInjambakkam' 'MumbaiMumbra' 'Habsiguda' 'KurlaMumbai'\n",
      " 'Telangana500027' 'Chenna' 'Kerala682021' 'KandivaliWest' 'chennai-119'\n",
      " 'NoidaExtention' 'ShihabThangalRoad' 'NewDelhi110011' 'Miumbai'\n",
      " 'Borivali(W)Mumbai:400092.' 'Vanasthalipuram' 'KKRoad' 'Chennai-600018'\n",
      " 'OppositeElloraBuilding']\n"
     ]
    }
   ],
   "source": [
    "cat_ana(res, x = 'CITY')"
   ]
  },
  {
   "cell_type": "raw",
   "metadata": {},
   "source": [
    "# City where restaurant is located & would impact restaurant pricing\n",
    "It can be seen that data has very high no of misspleed cities names and hence shall be reclassified"
   ]
  },
  {
   "cell_type": "code",
   "execution_count": 389,
   "metadata": {},
   "outputs": [
    {
     "name": "stdout",
     "output_type": "stream",
     "text": [
      "Stats summary \n",
      "count          16793\n",
      "unique          1629\n",
      "top       Gachibowli\n",
      "freq             216\n",
      "Name: LOCALITY, dtype: object\n",
      "++++++++++++++++++++++++++++++++++++++++++++++++++++++++++++++++++++++++++++++++\n",
      "Null values \n",
      "128\n",
      "++++++++++++++++++++++++++++++++++++++++++++++++++++++++++++++++++++++++++++++++\n",
      "Series value count is \n",
      "Gachibowli                           216\n",
      "Indiranagar                          187\n",
      "Kakkanad                             175\n",
      "Kukatpally                           171\n",
      "Madhapur                             169\n",
      "                                    ... \n",
      "Nearertofishermenbarandrestaurent      1\n",
      "Adayar                                 1\n",
      "OMRPadur                               1\n",
      "ShankarRoad(NextToBridges)             1\n",
      "InorbitMallRoadKukatpally              1\n",
      "Name: LOCALITY, Length: 1629, dtype: int64\n",
      "++++++++++++++++++++++++++++++++++++++++++++++++++++++++++++++++++++++++++++++++\n",
      "Unique values \n",
      "['DombivaliEast' 'Ramapuram' 'Saligramam' ... 'OffCarterRoad'\n",
      " 'SRMBackGate' 'PerryCrossRoad']\n"
     ]
    }
   ],
   "source": [
    "cat_ana(res, x = 'LOCALITY')"
   ]
  },
  {
   "cell_type": "raw",
   "metadata": {},
   "source": [
    "Locality where restaurant is located and we can see that the no. of unique entries are very high"
   ]
  },
  {
   "cell_type": "code",
   "execution_count": 390,
   "metadata": {},
   "outputs": [
    {
     "data": {
      "application/javascript": [
       "\n",
       "        if (window._pyforest_update_imports_cell) { window._pyforest_update_imports_cell('import pandas as pd\\nimport numpy as np\\nimport seaborn as sns\\nimport matplotlib.pyplot as plt'); }\n",
       "    "
      ],
      "text/plain": [
       "<IPython.core.display.Javascript object>"
      ]
     },
     "metadata": {},
     "output_type": "display_data"
    },
    {
     "data": {
      "application/javascript": [
       "\n",
       "        if (window._pyforest_update_imports_cell) { window._pyforest_update_imports_cell('import pandas as pd\\nimport numpy as np\\nimport seaborn as sns\\nimport matplotlib.pyplot as plt'); }\n",
       "    "
      ],
      "text/plain": [
       "<IPython.core.display.Javascript object>"
      ]
     },
     "metadata": {},
     "output_type": "display_data"
    },
    {
     "data": {
      "application/javascript": [
       "\n",
       "        if (window._pyforest_update_imports_cell) { window._pyforest_update_imports_cell('import pandas as pd\\nimport numpy as np\\nimport seaborn as sns\\nimport matplotlib.pyplot as plt'); }\n",
       "    "
      ],
      "text/plain": [
       "<IPython.core.display.Javascript object>"
      ]
     },
     "metadata": {},
     "output_type": "display_data"
    },
    {
     "data": {
      "application/javascript": [
       "\n",
       "        if (window._pyforest_update_imports_cell) { window._pyforest_update_imports_cell('import pandas as pd\\nimport numpy as np\\nimport seaborn as sns\\nimport matplotlib.pyplot as plt'); }\n",
       "    "
      ],
      "text/plain": [
       "<IPython.core.display.Javascript object>"
      ]
     },
     "metadata": {},
     "output_type": "display_data"
    },
    {
     "data": {
      "application/javascript": [
       "\n",
       "        if (window._pyforest_update_imports_cell) { window._pyforest_update_imports_cell('import pandas as pd\\nimport numpy as np\\nimport seaborn as sns\\nimport matplotlib.pyplot as plt'); }\n",
       "    "
      ],
      "text/plain": [
       "<IPython.core.display.Javascript object>"
      ]
     },
     "metadata": {},
     "output_type": "display_data"
    },
    {
     "data": {
      "application/javascript": [
       "\n",
       "        if (window._pyforest_update_imports_cell) { window._pyforest_update_imports_cell('import pandas as pd\\nimport numpy as np\\nimport seaborn as sns\\nimport matplotlib.pyplot as plt'); }\n",
       "    "
      ],
      "text/plain": [
       "<IPython.core.display.Javascript object>"
      ]
     },
     "metadata": {},
     "output_type": "display_data"
    },
    {
     "data": {
      "application/javascript": [
       "\n",
       "        if (window._pyforest_update_imports_cell) { window._pyforest_update_imports_cell('import pandas as pd\\nimport numpy as np\\nimport seaborn as sns\\nimport matplotlib.pyplot as plt'); }\n",
       "    "
      ],
      "text/plain": [
       "<IPython.core.display.Javascript object>"
      ]
     },
     "metadata": {},
     "output_type": "display_data"
    },
    {
     "data": {
      "application/javascript": [
       "\n",
       "        if (window._pyforest_update_imports_cell) { window._pyforest_update_imports_cell('import pandas as pd\\nimport numpy as np\\nimport seaborn as sns\\nimport matplotlib.pyplot as plt'); }\n",
       "    "
      ],
      "text/plain": [
       "<IPython.core.display.Javascript object>"
      ]
     },
     "metadata": {},
     "output_type": "display_data"
    },
    {
     "data": {
      "application/javascript": [
       "\n",
       "        if (window._pyforest_update_imports_cell) { window._pyforest_update_imports_cell('import pandas as pd\\nimport numpy as np\\nimport seaborn as sns\\nimport matplotlib.pyplot as plt'); }\n",
       "    "
      ],
      "text/plain": [
       "<IPython.core.display.Javascript object>"
      ]
     },
     "metadata": {},
     "output_type": "display_data"
    },
    {
     "data": {
      "application/javascript": [
       "\n",
       "        if (window._pyforest_update_imports_cell) { window._pyforest_update_imports_cell('import pandas as pd\\nimport numpy as np\\nimport seaborn as sns\\nimport matplotlib.pyplot as plt'); }\n",
       "    "
      ],
      "text/plain": [
       "<IPython.core.display.Javascript object>"
      ]
     },
     "metadata": {},
     "output_type": "display_data"
    },
    {
     "data": {
      "application/javascript": [
       "\n",
       "        if (window._pyforest_update_imports_cell) { window._pyforest_update_imports_cell('import pandas as pd\\nimport numpy as np\\nimport seaborn as sns\\nimport matplotlib.pyplot as plt'); }\n",
       "    "
      ],
      "text/plain": [
       "<IPython.core.display.Javascript object>"
      ]
     },
     "metadata": {},
     "output_type": "display_data"
    }
   ],
   "source": [
    "# Preparing TITLE\n",
    "res_title = pd.DataFrame(res['TITLE'].str.split(',').tolist())\n",
    "res_title.columns = ['T_1',\"T_2\"]\n",
    "res_title.replace('None', 'MISSING', inplace = True)\n",
    "res_title.replace(np.NaN, 'MISSING', inplace = True)\n",
    "# Preparing the column\n",
    "res_cuisines = pd.DataFrame(res['CUISINES'].str.split(',').tolist())\n",
    "res_cuisines. columns = ['C1','C2','C3','C4','C5','C6','C7','C8']\n",
    "res_cuisines.replace('None', 'MISSING', inplace = True)\n",
    "res_cuisines.replace(np.NaN, 'MISSING', inplace = True)\n",
    "res_cuisines.replace('', 'MISSING', inplace = True)\n",
    "# Preparing Votes column\n",
    "res_votes = pd.DataFrame(res['VOTES'].str.split(' ').tolist())\n",
    "res_votes.columns = ['V1','V2']\n",
    "res_votes.replace('None', 'MISSING', inplace = True)\n",
    "res_votes.replace(np.NaN, 'MISSING', inplace = True)\n",
    "res_votes.replace('', 'MISSING', inplace = True)\n",
    "res_votes.replace('nan', 0, inplace = True)\n",
    "# Preparing Rating column\n",
    "res['RATING'].replace('None', np.NaN, inplace = True)\n",
    "res['RATING'].replace(np.NaN, np.NaN, inplace = True)\n",
    "res['RATING'].replace('-', np.NaN, inplace = True)\n",
    "res['RATING'].replace('nan', np.NaN, inplace = True)\n",
    "# Reorganizing city\n",
    "res['CITY'] = res['CITY'].astype(str)\n",
    "res['CITY'].replace(['UttarPradesh','Telangana','TamilNadu','Kerala','Karnataka','Maharashtra','India','nan',\n",
    "                     'NearRelianceFresh','OuterRingroad'], 'MISSING', inplace = True)\n",
    "res['CITY'].replace(['IOBBankKamalaNagar','WestMaredpally','Secunderbad','Secunderabad.','Secunderabad.WEHAVENOBRANCHES.',\n",
    "                     'SecunderabadECIL','SecunderabadmainroadnearsignalNMRECCOLLEGE'],'Secunderabad', inplace = True)\n",
    "res['CITY'].replace(['Kerala682018','Kerala682028','682036','Vyttila','AluvaCircle','Thykoodam','Thykoodam','Kerala682021',\n",
    "                     'Kerala682015','Kerala682022',\n",
    "                     'Kerala682305','Kerala682018' 'Kerala682028','Kerala682024','Kerala682304', 'Kerala682001India',\n",
    "                     'MGRoadErnakulam','Ernakulam','Kerala682036',682024,'682035.',682036],'Ernakulam', inplace = True)\n",
    "res['CITY'].replace(['Pallimukku','Elamakkara','PanampillyNagar','Perumbavoor','Palarivattom','p.oKochi','Nedumbassery',\n",
    "                     'chullickal','KochiPanampillyNagar','aluvacircle','Aluva', 'KochiAluva102', 'FortKochi','Kochi-16',\n",
    "                     'KochiInternationalAirportVIPRoad' ,'KochiKakkanad','Kochi-18' ,'KochiRavipuram','kochi',\n",
    "                     'Kerala682013','Kerala683104','Kochi.','KochiChullickal','Kochi-683101' ,'Kaloor','KochiPalarivattom',\n",
    "                     'KochiVyttila','PonnuruniKochi','KochiElamkulam','ErnakulamCirclekochi'],'Kochi', inplace = True)\n",
    "res['CITY'].replace(['NoidaExtention','Sector-6Noida201301','NearSector110Noida','GreaterNoida','Sector51Noida'],\n",
    "                    'Noida', inplace = True)\n",
    "res['CITY'].replace(['Kukatapally','BKGuda','Champapet','Lingampally','Dilsukhnagar','Kukatpally','Attapur.',\n",
    "                     'RajivgandhiNagar','Telangana500003','HitechCity','Madhapur','Gandipet','Mehdipatnam' ,'Kondapur',\n",
    "                     'Telangana500027','Hyderaba','Nizampet',\n",
    "                     'HyderabadManikonda', 'Manikonda','BegumpetHyderabad','Begumpet','Telangana500081','hyderabad',\n",
    "                     'JubileeHills','Telengana','BanjaraHills','GachibowliHyderabad','NearSantoshBanjaraHyderabad',\n",
    "                     'Hyderabad-500032','Telangana500032','Telangana500034','Hyderabad.','HyderabadBehindVacsPastries',\n",
    "                     'Hyderabadneerusemporium.','Gachibowli','Kothaguda',\n",
    "                     'TelaganaLandLine:040-48507016'],'Hyderabad', inplace = True)\n",
    "res['CITY'].replace(['Nungambakkam','AndavarNagar','Kolathur','OMRKarapakkam','Potheri','NallathambiMainRoad','SathyaNagar'\n",
    "                     ,'Medavakkam','Perungudi','Pallavaram' ,'Velachery','BesantNagar','ChennaiVelachery','chennai',\n",
    "                     'Chennai-34Landmark-NearLoyolaCollege','AnnaNagarWest','ChennaiMahabalipuram','Mahabalipuram' ,\n",
    "                     'ChennaiOpposite5CBusstand' ,'ChennaiPadur','Chennai40','ChennaiInjambakkam', \n",
    "                     'BalavinayagarNagarChennai','T-NagarChennai','Chennai-600018','chennai-119',\n",
    "                     'Chenna','ChennaiKovalam','Chennaiopp:Vasanth&co',\n",
    "                     'Mogappair.Chennai', 'ChennaiPerungudi', 'ChennaiThuraipakkam', 'ChennaiThousandLights',\n",
    "                     'Chennai-600107','ECRNEELANKARAIChennai600115', 'Chennai.', 'Chennai(BangOppositeIndianBank)',\n",
    "                     'Chennai-40', 'ChennaiChrompet','Chennai.(NearHotelMatshya)','AnnaNagarEast' ,\n",
    "                     'Sholinganallur.Chennai','Chennai(AboveBombayBrasserie)' ,'Chennai37','Chennai600040',\n",
    "                     'Chennai-600008','Chennai-600040','Chennai600034.','Arumbakkamchennai-600106.','DewanRamaRoad',\n",
    "                     'Semmancheri','ChennaiTeynampet'],'Chennai', inplace = True)\n",
    "res['CITY'].replace(['GurgaonHaryana','NewDelhi110011','Gurugram','RodeoDriveSector49',\n",
    "                     'PVRplazacinemabuildingConnaughtPlace','NewDelhi110075',\n",
    "                     'Amritkaurmarketoppositenewdelhirailwaystationpaharganj','Gurgoan','Faridabd','DLFGalleria',\n",
    "                     'Kalkaji','Delh.','NewDelhi110011''GurgaonHaryana','Janakpuri','Dist.CenterNewDelhi' ,\n",
    "                     'IndiaGateNewDelhi','Girgaum',\n",
    "                     'GreaterKailash1(GK1)NewDelhi','Haryana','Gurgaon','VaishaliGhaziabad','Sector7Dwarka',\n",
    "                     'GurgaonHaryanaIndia','NewDelhi..NearbySBIbank','NearRamlilaGround','OldDelhi',\n",
    "                     '6&7-4/64SubhashNagar','AshokViharPhase1','Saket','Pitampura','ChanderNagarNewDelhi',\n",
    "                     'NewDelhi.','NewDelhi-110024','GreaterKailash2NewDelhi','Delhi110085',\n",
    "                     'KarolBagh','Rohini','DelhiNCR','Dwarka','oppgurudwaraShakurpur','Delhi'],'NewDelhi', inplace = True)\n",
    "res['CITY'].replace(['B.B.M.PEast(Karnataka)-560049','Karnataka560037','Karnataka560043' ,'Karnataka560102','SGPalya',\n",
    "                     'ThammenahalliVillage','Karnataka560103','HBRLayout',\n",
    "                     'Sarjapur','BTMLayout','VijayaNagar','RajarajeshwariNagarbangalore','JPNagar', 'Marathahalli' ,\n",
    "                     'KanakapuraRoadBanglore','Banglaore','Bangalorelandmarkabovemahaveerhardware','Phase1Bangalore',\n",
    "                     'Bangalore560076',\n",
    "                     'MalleshwaramBangalore', 'BangaloreRoad', 'KadubesanahalliBangalore','Whitefield','Bangalore-560095',\n",
    "                     'Bangalore-560103','BrigadeRoad','HSRLayout' ,'OffBrigadeRoad','Banaswadi(NexttoIndianBank)Bangalore',\n",
    "                     'BTMBangalore','BangaloreKoramangala7thBlock','bangalore:560085',\n",
    "                     'CPRlayoutharlurmainroadoppositetoozoneevergreenapartmentBangalore-','HosurRoad','Bangalore.',\n",
    "                     'Bangalore-560076', 'JPNagarBangalore','WhitefieldBangalore','Banglore',\n",
    "                     'Bengaluru','Bengalore','5thMainTeachersColonyKoramangalaBlock1Bangalore560034', 'Bangalor',\n",
    "                     'Bangalore-560066'],'Bangalore', inplace = True)\n",
    "res['CITY'].replace(['Maharashtra400102','Maharashtra400092','Maharashtra400092','NaviMumbai.','MumbaiMahim','DombivaliEast'\n",
    "                     ,'Kandivali','Thane','oppmukteshwarashrampowai','Rajanpada','PokhranRoad2','MulundWest','Chowpatty',\n",
    "                     'VirarMumbai','ChurchStreet','MumbaiVeeraDesaiArea','MumbaiUlhasnagar',\n",
    "                     'JogeshwariWestMumbai','Miraraodeast','MumbaiChakala','BorivaliWest','Mumbai400070','KandivaliWest',\n",
    "                     'Thane(W)','ThaneWest','ThaneWestThaneWest''NearAndheriWestStation','ThaneMumbai',\n",
    "                     'Jogeshwari(w)Mumbai','MumbaiChakala','BorivaliWest','BorivaliEast.' ,'WestMumbai','navimumbai',\n",
    "                     'VasaiWest.','Mahim','GrantRoadWest','Mumbai-400007','NayaNagarMiraRoad','LowerParel','Mumbai.',\n",
    "                     'MumbaiAndheriEast', 'VirarWest','MarineDrive','Bhayandar''Khar(west)','kharwest',\n",
    "                     'MumbaiDombivaliEast','Powai','KalyanWest','GrantRoadWest','Mumbai-400007','NayaNagarMiraRoad',\n",
    "                     'LowerParel','Mumbai.','MumbaiAndheriEast', \n",
    "                     'VirarWest','MarineDrive','Bhayandar','Khar(west)','kharwest','MumbaiDombivaliEast','Powai',\n",
    "                     'Mumbai-400013','AndheriwestMumbai','BandraW','Mumbai-80','AndheriLokhandwala.','EastMumbai',\n",
    "                     'Kalyan','BadlapurWest.','LowerParelWest','Navi-Mumbai' ,'Mulundwest',\n",
    "                     'MumbaiThisisaDelivery&Take-awayRestaurantonly.','Vasaiwest','BorivaliWest.''GolfCourseRoad',\n",
    "                     'KharMumbai','VasaiMumbai','NearAndheriEastStation', 'MiraRoadThaneMumbai',\n",
    "                     'Kurla(W)','Mumbai400015','Dombivli', 'MohammadAliRoadMumbai','KurlaMumbai','MumbaiMumbra',\n",
    "                     'Miumbai','Borivali(W)Mumbai:400092.' 'DombivaliEast','Kandivali''MumbaiMahim',\n",
    "                     'Powai(NexttoPowaiPlaza)','MulundEast','GoregaonWest','Chembur.','AndheriLokhandwala',\n",
    "                     'AndheriWest','MaladEast','BandraWest','Borivali(W)Mumbai:400092.'],'Mumbai', inplace = True)"
   ]
  },
  {
   "cell_type": "code",
   "execution_count": 391,
   "metadata": {},
   "outputs": [
    {
     "data": {
      "application/javascript": [
       "\n",
       "        if (window._pyforest_update_imports_cell) { window._pyforest_update_imports_cell('import pandas as pd\\nimport numpy as np\\nimport seaborn as sns\\nimport matplotlib.pyplot as plt'); }\n",
       "    "
      ],
      "text/plain": [
       "<IPython.core.display.Javascript object>"
      ]
     },
     "metadata": {},
     "output_type": "display_data"
    }
   ],
   "source": [
    "# combining all dataframes:\n",
    "res_total = pd.concat([res,res_title,res_cuisines,res_votes], axis =1)\n",
    "# Droping duplicated information\n",
    "res_total.drop(['TITLE', 'RESTAURANT_ID', 'CUISINES', 'TIME','VOTES','V2','LOCALITY'],axis = 1, inplace =True)"
   ]
  },
  {
   "cell_type": "code",
   "execution_count": 392,
   "metadata": {},
   "outputs": [],
   "source": [
    "# Filling null values in rating with title wide mean assuming new restaurants would try to compete with restaurants of \n",
    "# similar types\n",
    "res_total['RATING'] = (res_total.groupby('T_1')).transform(lambda x: x.fillna(x.mean()))"
   ]
  },
  {
   "cell_type": "code",
   "execution_count": 393,
   "metadata": {},
   "outputs": [],
   "source": [
    "# Encoding the required Data\n",
    "from sklearn.preprocessing import LabelEncoder\n",
    "le = LabelEncoder()\n",
    "val = ['CITY', 'RATING','T_1', 'T_2', 'C1', 'C2', 'C3','C4', 'C5', 'C6', 'C7', 'C8', 'V1']\n",
    "for i in val:\n",
    "    res_total[i] = le.fit_transform(res_total[i].astype(str))"
   ]
  },
  {
   "cell_type": "code",
   "execution_count": 394,
   "metadata": {},
   "outputs": [
    {
     "data": {
      "application/javascript": [
       "\n",
       "        if (window._pyforest_update_imports_cell) { window._pyforest_update_imports_cell('import pandas as pd\\nimport numpy as np\\nimport seaborn as sns\\nimport matplotlib.pyplot as plt'); }\n",
       "    "
      ],
      "text/plain": [
       "<IPython.core.display.Javascript object>"
      ]
     },
     "metadata": {},
     "output_type": "display_data"
    },
    {
     "data": {
      "application/javascript": [
       "\n",
       "        if (window._pyforest_update_imports_cell) { window._pyforest_update_imports_cell('import pandas as pd\\nimport numpy as np\\nimport seaborn as sns\\nimport matplotlib.pyplot as plt'); }\n",
       "    "
      ],
      "text/plain": [
       "<IPython.core.display.Javascript object>"
      ]
     },
     "metadata": {},
     "output_type": "display_data"
    },
    {
     "data": {
      "image/png": "[encoded data removed]",
      "text/plain": [
       "<Figure size 720x360 with 1 Axes>"
      ]
     },
     "metadata": {
      "needs_background": "light"
     },
     "output_type": "display_data"
    }
   ],
   "source": [
    "# Checking Coorelation\n",
    "res_total.drop(['COST'],axis=1).corrwith(res_total['COST']).plot(kind ='bar', figsize =(10,5))\n",
    "plt.title('Correlation Plot')\n",
    "plt.show()"
   ]
  },
  {
   "cell_type": "raw",
   "metadata": {},
   "source": [
    "It can be noted that Cost has best positive coorealation with City,and votes received, where as best negative with Title & rating, title & cuisines"
   ]
  },
  {
   "cell_type": "markdown",
   "metadata": {},
   "source": [
    "# Building Model"
   ]
  },
  {
   "cell_type": "code",
   "execution_count": 395,
   "metadata": {},
   "outputs": [],
   "source": [
    "#Importing required libraries\n",
    "from sklearn.linear_model import LinearRegression, Lasso, Ridge, ElasticNet\n",
    "from sklearn.ensemble import RandomForestRegressor, AdaBoostRegressor, GradientBoostingRegressor\n",
    "from sklearn.tree import DecisionTreeRegressor\n",
    "from sklearn.model_selection import train_test_split, LeaveOneOut, cross_val_score\n",
    "from xgboost.sklearn import XGBRegressor\n",
    "from sklearn.metrics import r2_score, mean_absolute_error, mean_squared_error\n",
    "from sklearn.pipeline import Pipeline"
   ]
  },
  {
   "cell_type": "code",
   "execution_count": 396,
   "metadata": {},
   "outputs": [],
   "source": [
    "# Segrigating data into x & y\n",
    "train = res_total.loc[res_total['Identify']== 'Train']\n",
    "test = res_total.loc[res_total['Identify']== 'Test']\n",
    "x = (train.drop(['COST','Identify'], axis = 1))\n",
    "y = train['COST']\n",
    "testy = (test.drop(['COST','Identify'], axis = 1))"
   ]
  },
  {
   "cell_type": "code",
   "execution_count": 397,
   "metadata": {},
   "outputs": [
    {
     "name": "stdout",
     "output_type": "stream",
     "text": [
      "The best random state is 67 with accuracy is 19.26617346066629%\n"
     ]
    }
   ],
   "source": [
    "# identifying best random state\n",
    "best_random_state = 0\n",
    "accu = 0\n",
    "for i in range(30,100):\n",
    "    x_train,x_test,y_train,y_test = train_test_split(x,y,test_size =0.22, random_state = i)\n",
    "    lr = LinearRegression()\n",
    "    lr.fit(x_train,y_train)\n",
    "    predlr = lr.predict(x_test)\n",
    "    r2s = r2_score(y_test,predlr)\n",
    "    if r2s > accu:\n",
    "        accu = r2s\n",
    "        best_random_state = i\n",
    "        \n",
    "        \n",
    "print(f'The best random state is {best_random_state} with accuracy is {accu *100}%')"
   ]
  },
  {
   "cell_type": "code",
   "execution_count": 398,
   "metadata": {},
   "outputs": [
    {
     "name": "stdout",
     "output_type": "stream",
     "text": [
      "For algorithm LinearRegression() R2 Score is 19.26617346066629\n",
      "For algorithm LinearRegression() mean Sqr Error is 28621515.93458642\n",
      "For algorithm LinearRegression() mean abs. error is 32393.692945094874\n",
      "For algorithm LinearRegression() cross validation score is 15.76493725210588\n",
      "Difference between r2 score & cv score = 3.5012362085604103\n",
      "\n",
      "+++++++++++++++++++++++++++++++++++++++++++++++++++++++++++++++++++++++++++++++++++++++++++++\n",
      "For algorithm Lasso(alpha=0.001) R2 Score is 19.26617212087901\n",
      "For algorithm Lasso(alpha=0.001) mean Sqr Error is 28621516.40956382\n",
      "For algorithm Lasso(alpha=0.001) mean abs. error is 32393.6935616879\n",
      "For algorithm Lasso(alpha=0.001) cross validation score is 15.764946815889624\n",
      "Difference between r2 score & cv score = 3.5012253049893847\n",
      "\n",
      "+++++++++++++++++++++++++++++++++++++++++++++++++++++++++++++++++++++++++++++++++++++++++++++\n",
      "For algorithm Ridge(alpha=0.001) R2 Score is 19.266173453860702\n",
      "For algorithm Ridge(alpha=0.001) mean Sqr Error is 28621515.93699911\n",
      "For algorithm Ridge(alpha=0.001) mean abs. error is 32393.692950779514\n",
      "For algorithm Ridge(alpha=0.001) cross validation score is 15.76493725743875\n",
      "Difference between r2 score & cv score = 3.501236196421953\n",
      "\n",
      "+++++++++++++++++++++++++++++++++++++++++++++++++++++++++++++++++++++++++++++++++++++++++++++\n",
      "For algorithm ElasticNet(alpha=0.001) R2 Score is 19.266139070686496\n",
      "For algorithm ElasticNet(alpha=0.001) mean Sqr Error is 28621528.12641972\n",
      "For algorithm ElasticNet(alpha=0.001) mean abs. error is 32393.721375058107\n",
      "For algorithm ElasticNet(alpha=0.001) cross validation score is 15.76497234320074\n",
      "Difference between r2 score & cv score = 3.5011667274857565\n",
      "\n",
      "+++++++++++++++++++++++++++++++++++++++++++++++++++++++++++++++++++++++++++++++++++++++++++++\n",
      "For algorithm RandomForestRegressor() R2 Score is 93.25154417447195\n",
      "For algorithm RandomForestRegressor() mean Sqr Error is 2392442.4770093122\n",
      "For algorithm RandomForestRegressor() mean abs. error is 1613.48388252149\n",
      "For algorithm RandomForestRegressor() cross validation score is 91.69561177852576\n",
      "Difference between r2 score & cv score = 1.5559323959461864\n",
      "\n",
      "+++++++++++++++++++++++++++++++++++++++++++++++++++++++++++++++++++++++++++++++++++++++++++++\n",
      "For algorithm AdaBoostRegressor() R2 Score is -144.12387666580253\n",
      "For algorithm AdaBoostRegressor() mean Sqr Error is 86546070.2844191\n",
      "For algorithm AdaBoostRegressor() mean abs. error is 83638.955782915\n",
      "For algorithm AdaBoostRegressor() cross validation score is -108.71690957513802\n",
      "Difference between r2 score & cv score = -35.40696709066451\n",
      "\n",
      "+++++++++++++++++++++++++++++++++++++++++++++++++++++++++++++++++++++++++++++++++++++++++++++\n",
      "For algorithm DecisionTreeRegressor() R2 Score is 89.56427585307496\n",
      "For algorithm DecisionTreeRegressor() mean Sqr Error is 3699641.869627507\n",
      "For algorithm DecisionTreeRegressor() mean abs. error is 1050.4656160458453\n",
      "For algorithm DecisionTreeRegressor() cross validation score is 87.19843573920066\n",
      "Difference between r2 score & cv score = 2.365840113874299\n",
      "\n",
      "+++++++++++++++++++++++++++++++++++++++++++++++++++++++++++++++++++++++++++++++++++++++++++++\n",
      "For algorithm XGBRegressor(base_score=0.5, booster='gbtree', colsample_bylevel=1,\n",
      "             colsample_bynode=1, colsample_bytree=1, gamma=0, gpu_id=-1,\n",
      "             importance_type='gain', interaction_constraints='',\n",
      "             learning_rate=0.300000012, max_delta_step=0, max_depth=6,\n",
      "             min_child_weight=1, missing=nan, monotone_constraints='()',\n",
      "             n_estimators=100, n_jobs=4, num_parallel_tree=1, random_state=0,\n",
      "             reg_alpha=0, reg_lambda=1, scale_pos_weight=1, subsample=1,\n",
      "             tree_method='exact', validate_parameters=1, verbosity=None) R2 Score is 94.64664244486212\n",
      "For algorithm XGBRegressor(base_score=0.5, booster='gbtree', colsample_bylevel=1,\n",
      "             colsample_bynode=1, colsample_bytree=1, gamma=0, gpu_id=-1,\n",
      "             importance_type='gain', interaction_constraints='',\n",
      "             learning_rate=0.300000012, max_delta_step=0, max_depth=6,\n",
      "             min_child_weight=1, missing=nan, monotone_constraints='()',\n",
      "             n_estimators=100, n_jobs=4, num_parallel_tree=1, random_state=0,\n",
      "             reg_alpha=0, reg_lambda=1, scale_pos_weight=1, subsample=1,\n",
      "             tree_method='exact', validate_parameters=1, verbosity=None) mean Sqr Error is 1897856.3897657902\n",
      "For algorithm XGBRegressor(base_score=0.5, booster='gbtree', colsample_bylevel=1,\n",
      "             colsample_bynode=1, colsample_bytree=1, gamma=0, gpu_id=-1,\n",
      "             importance_type='gain', interaction_constraints='',\n",
      "             learning_rate=0.300000012, max_delta_step=0, max_depth=6,\n",
      "             min_child_weight=1, missing=nan, monotone_constraints='()',\n",
      "             n_estimators=100, n_jobs=4, num_parallel_tree=1, random_state=0,\n",
      "             reg_alpha=0, reg_lambda=1, scale_pos_weight=1, subsample=1,\n",
      "             tree_method='exact', validate_parameters=1, verbosity=None) mean abs. error is 2377.762591206925\n",
      "For algorithm XGBRegressor(base_score=0.5, booster='gbtree', colsample_bylevel=1,\n",
      "             colsample_bynode=1, colsample_bytree=1, gamma=0, gpu_id=-1,\n",
      "             importance_type='gain', interaction_constraints='',\n",
      "             learning_rate=0.300000012, max_delta_step=0, max_depth=6,\n",
      "             min_child_weight=1, missing=nan, monotone_constraints='()',\n",
      "             n_estimators=100, n_jobs=4, num_parallel_tree=1, random_state=0,\n",
      "             reg_alpha=0, reg_lambda=1, scale_pos_weight=1, subsample=1,\n",
      "             tree_method='exact', validate_parameters=1, verbosity=None) cross validation score is 90.03959159446853\n",
      "Difference between r2 score & cv score = 4.607050850393591\n",
      "\n",
      "+++++++++++++++++++++++++++++++++++++++++++++++++++++++++++++++++++++++++++++++++++++++++++++\n",
      "For algorithm GradientBoostingRegressor() R2 Score is 81.43881355226125\n",
      "For algorithm GradientBoostingRegressor() mean Sqr Error is 6580256.584517992\n",
      "For algorithm GradientBoostingRegressor() mean abs. error is 10492.539337327944\n",
      "For algorithm GradientBoostingRegressor() cross validation score is 81.10781248875153\n",
      "Difference between r2 score & cv score = 0.33100106350971714\n",
      "\n",
      "+++++++++++++++++++++++++++++++++++++++++++++++++++++++++++++++++++++++++++++++++++++++++++++\n"
     ]
    }
   ],
   "source": [
    "#Identifying best Algorithm\n",
    "import warnings\n",
    "warnings.filterwarnings('ignore')\n",
    "models=[LinearRegression(),Lasso(alpha =0.001),Ridge(alpha =0.001), \n",
    "      ElasticNet(alpha =0.001), RandomForestRegressor(),\n",
    "      AdaBoostRegressor(), DecisionTreeRegressor(), XGBRegressor(), GradientBoostingRegressor()]\n",
    "for m in models:\n",
    "    x_train,x_test,y_train,y_test = train_test_split(x,y,test_size = 0.22, random_state = 67)\n",
    "    m.fit(x_train,y_train)\n",
    "    pred = m.predict(x_test)\n",
    "    cv_score = cross_val_score(m,x,y,cv= 10).mean()\n",
    "    print(f'For algorithm {m} R2 Score is {r2_score(y_test,pred)*100}')\n",
    "    print(f'For algorithm {m} mean Sqr Error is {mean_squared_error(y_test,pred)*100}')\n",
    "    print(f'For algorithm {m} mean abs. error is {mean_absolute_error(y_test,pred)*100}')\n",
    "    print(f'For algorithm {m} cross validation score is {cv_score*100}')\n",
    "    print(f'Difference between r2 score & cv score = {(r2_score(y_test,pred)*100)-(cv_score*100)}\\n')\n",
    "    print('+++++++++++++++++++++++++++++++++++++++++++++++++++++++++++++++++++++++++++++++++++++++++++++')"
   ]
  },
  {
   "cell_type": "raw",
   "metadata": {},
   "source": [
    "# Though CV score is highest in random forest regressor but XGBR algorithm can be selected being a more robust algorithm with lesser chance of over & underfitting"
   ]
  },
  {
   "cell_type": "code",
   "execution_count": 399,
   "metadata": {},
   "outputs": [
    {
     "data": {
      "text/plain": [
       "{'booster': 'gbtree'}"
      ]
     },
     "execution_count": 399,
     "metadata": {},
     "output_type": "execute_result"
    }
   ],
   "source": [
    "from sklearn.model_selection import GridSearchCV\n",
    "parameters = {'booster':['gbtree', 'gblinear', 'gbtree']}\n",
    "clf = GridSearchCV(XGBRegressor(),parameters)\n",
    "clf.fit(x_train,y_train)\n",
    "clf.best_params_"
   ]
  },
  {
   "cell_type": "code",
   "execution_count": 400,
   "metadata": {},
   "outputs": [
    {
     "name": "stdout",
     "output_type": "stream",
     "text": [
      "For algorithm GradientBoostingRegressor() R2 Score is 94.64664244486212\n",
      "For algorithm GradientBoostingRegressor() mean Sqr Error is 1897856.3897657902\n",
      "For algorithm GradientBoostingRegressor() mean abs. error is 2377.762591206925\n",
      "For algorithm GradientBoostingRegressor() cross validation score is 90.03959159446853\n",
      "Difference between r2 score & cv score = 4.607050850393591\n",
      "\n",
      "+++++++++++++++++++++++++++++++++++++++++++++++++++++++++++++++++++++++++++++++++++++++++++++\n"
     ]
    }
   ],
   "source": [
    "x_train,x_test,y_train,y_test = train_test_split(x,y,test_size = 0.22, random_state = 67)\n",
    "xgbr = XGBRegressor(booster= 'gbtree')\n",
    "xgbr.fit(x_train,y_train)\n",
    "pred = xgbr.predict(x_test)\n",
    "cv_score = cross_val_score(xgbr,x,y,cv= 10).mean()\n",
    "print(f'For algorithm {m} R2 Score is {r2_score(y_test,pred)*100}')\n",
    "print(f'For algorithm {m} mean Sqr Error is {mean_squared_error(y_test,pred)*100}')\n",
    "print(f'For algorithm {m} mean abs. error is {mean_absolute_error(y_test,pred)*100}')\n",
    "print(f'For algorithm {m} cross validation score is {cv_score*100}')\n",
    "print(f'Difference between r2 score & cv score = {(r2_score(y_test,pred)*100)-(cv_score*100)}\\n')\n",
    "print('+++++++++++++++++++++++++++++++++++++++++++++++++++++++++++++++++++++++++++++++++++++++++++++')"
   ]
  },
  {
   "cell_type": "code",
   "execution_count": 403,
   "metadata": {},
   "outputs": [
    {
     "name": "stdout",
     "output_type": "stream",
     "text": [
      "R2 Score is 98.86743381791966\n",
      "Mean Sqr Error is 445214.5510534753\n",
      "Mean abs. error is 1089.5951922058214\n"
     ]
    }
   ],
   "source": [
    "predt = xgbr.predict(x)\n",
    "print(f'R2 Score is {r2_score(y,predt)*100}')\n",
    "print(f'Mean Sqr Error is {mean_squared_error(y,predt)*100}')\n",
    "print(f'Mean abs. error is {mean_absolute_error(y,predt)*100}')"
   ]
  },
  {
   "cell_type": "code",
   "execution_count": 404,
   "metadata": {},
   "outputs": [
    {
     "data": {
      "application/javascript": [
       "\n",
       "        if (window._pyforest_update_imports_cell) { window._pyforest_update_imports_cell('import pandas as pd\\nimport numpy as np\\nimport seaborn as sns\\nimport matplotlib.pyplot as plt'); }\n",
       "    "
      ],
      "text/plain": [
       "<IPython.core.display.Javascript object>"
      ]
     },
     "metadata": {},
     "output_type": "display_data"
    },
    {
     "data": {
      "application/javascript": [
       "\n",
       "        if (window._pyforest_update_imports_cell) { window._pyforest_update_imports_cell('import pandas as pd\\nimport numpy as np\\nimport seaborn as sns\\nimport matplotlib.pyplot as plt'); }\n",
       "    "
      ],
      "text/plain": [
       "<IPython.core.display.Javascript object>"
      ]
     },
     "metadata": {},
     "output_type": "display_data"
    },
    {
     "data": {
      "application/javascript": [
       "\n",
       "        if (window._pyforest_update_imports_cell) { window._pyforest_update_imports_cell('import pandas as pd\\nimport numpy as np\\nimport seaborn as sns\\nimport matplotlib.pyplot as plt'); }\n",
       "    "
      ],
      "text/plain": [
       "<IPython.core.display.Javascript object>"
      ]
     },
     "metadata": {},
     "output_type": "display_data"
    },
    {
     "data": {
      "image/png": "[encoded data removed]",
      "text/plain": [
       "<Figure size 432x288 with 1 Axes>"
      ]
     },
     "metadata": {
      "needs_background": "light"
     },
     "output_type": "display_data"
    }
   ],
   "source": [
    "plt.scatter(y,predt)\n",
    "plt.title('True Vs Predicted')\n",
    "plt.show()"
   ]
  },
  {
   "cell_type": "markdown",
   "metadata": {},
   "source": [
    "# Saving the Model"
   ]
  },
  {
   "cell_type": "code",
   "execution_count": 405,
   "metadata": {},
   "outputs": [
    {
     "data": {
      "text/plain": [
       "['Restaurant_cost_pred.obj']"
      ]
     },
     "execution_count": 405,
     "metadata": {},
     "output_type": "execute_result"
    }
   ],
   "source": [
    "import joblib\n",
    "joblib.dump(xgbr,'Restaurant_cost_pred.obj')"
   ]
  },
  {
   "cell_type": "code",
   "execution_count": null,
   "metadata": {},
   "outputs": [],
   "source": []
  }
 ],
 "metadata": {
  "kernelspec": {
   "display_name": "Python 3 (ipykernel)",
   "language": "python",
   "name": "python3"
  },
  "language_info": {
   "codemirror_mode": {
    "name": "ipython",
    "version": 3
   },
   "file_extension": ".py",
   "mimetype": "text/x-python",
   "name": "python",
   "nbconvert_exporter": "python",
   "pygments_lexer": "ipython3",
   "version": "3.11.5"
  }
 },
 "nbformat": 4,
 "nbformat_minor": 4
}
